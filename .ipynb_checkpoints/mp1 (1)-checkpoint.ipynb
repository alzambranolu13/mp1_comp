{
 "cells": [
  {
   "cell_type": "markdown",
   "id": "06c0ab74",
   "metadata": {
    "id": "06c0ab74"
   },
   "source": [
    "# Mini Project 1"
   ]
  },
  {
   "cell_type": "code",
   "execution_count": 1,
   "id": "cb4b813b",
   "metadata": {
    "id": "cb4b813b"
   },
   "outputs": [
    {
     "name": "stdout",
     "output_type": "stream",
     "text": [
      "Requirement already satisfied: aspose-words in c:\\programdata\\anaconda3\\lib\\site-packages (22.10.0)\n",
      "Note: you may need to restart the kernel to use updated packages.\n"
     ]
    }
   ],
   "source": [
    "pip install aspose-words"
   ]
  },
  {
   "cell_type": "code",
   "execution_count": null,
   "id": "hxP0ovzCGSJC",
   "metadata": {
    "id": "hxP0ovzCGSJC"
   },
   "outputs": [],
   "source": [
    "#mount drive for importing datasets\n",
    "from google.colab import drive\n",
    "drive.mount('/content/drive')"
   ]
  },
  {
   "cell_type": "code",
   "execution_count": null,
   "id": "fa46d4a1",
   "metadata": {
    "id": "fa46d4a1"
   },
   "outputs": [],
   "source": [
    "#necessary imports\n",
    "import numpy as np\n",
    "import pandas as pd\n",
    "import matplotlib\n",
    "import matplotlib.pyplot as plt\n",
    "from sklearn.feature_extraction.text import CountVectorizer\n",
    "from sklearn.model_selection import train_test_split\n",
    "from sklearn.naive_bayes import MultinomialNB\n",
    "from sklearn.tree import DecisionTreeClassifier\n",
    "from sklearn.neural_network import MLPClassifier\n",
    "from sklearn.datasets import make_classification\n",
    "from sklearn.model_selection import GridSearchCV\n",
    "from sklearn.model_selection import cross_val_score\n",
    "from sklearn.metrics import accuracy_score\n",
    "from sklearn.metrics import precision_score\n",
    "from sklearn.metrics import recall_score\n",
    "from sklearn.metrics import f1_score\n",
    "from sklearn.metrics import classification_report\n",
    "import seaborn as sns\n",
    "import aspose.words as aw\n",
    "from sklearn.metrics import confusion_matrix\n",
    "from sklearn.feature_extraction.text import TfidfVectorizer\n",
    "from gensim.models import KeyedVectors\n",
    "import nltk\n",
    "from nltk.tokenize import word_tokenize"
   ]
  },
  {
   "cell_type": "code",
   "execution_count": null,
   "id": "486eb04a",
   "metadata": {
    "id": "486eb04a"
   },
   "outputs": [],
   "source": [
    "# create document object\n",
    "doc = aw.Document()\n",
    "\n",
    "# create a document builder object\n",
    "builder = aw.DocumentBuilder(doc)"
   ]
  },
  {
   "cell_type": "markdown",
   "id": "51568646",
   "metadata": {
    "id": "51568646"
   },
   "source": [
    "## 1. Dataset Preparation & Analysis"
   ]
  },
  {
   "cell_type": "markdown",
   "id": "0c4b2d25",
   "metadata": {
    "id": "0c4b2d25"
   },
   "source": [
    "First its necessary to import our data"
   ]
  },
  {
   "cell_type": "code",
   "execution_count": null,
   "id": "ae945e84",
   "metadata": {
    "id": "ae945e84"
   },
   "outputs": [],
   "source": [
    "df=pd.read_json(\"drive/MyDrive/Colab Notebooks/Artifical Intelligence/goemotions.json\")\n",
    "df= df.rename(columns={0: \"Text\", 1:\"Emotion\",2:\"Sentiment\"})\n",
    "df"
   ]
  },
  {
   "cell_type": "markdown",
   "id": "ed1c0bc9",
   "metadata": {
    "id": "ed1c0bc9"
   },
   "source": [
    "#### 1.3 \n",
    "\"Extract the posts and the 2 sets of labels (emotion and sentiment), then plot the distribution\n",
    "of the posts in each category and save the graphic (a histogram or pie chart) in pdf. Do this for both\n",
    "the emotion and the sentiment categories\""
   ]
  },
  {
   "cell_type": "code",
   "execution_count": null,
   "id": "e0b27410",
   "metadata": {
    "id": "e0b27410"
   },
   "outputs": [],
   "source": [
    "fig, ax = plt.subplots(2,1, figsize=(15,15))\n",
    "df['Emotion'].value_counts().plot(ax=ax[0], kind='bar')\n",
    "df['Sentiment'].value_counts().plot(ax=ax[1], kind='bar')\n",
    "\n",
    "fig.savefig(\"graphs.pdf\", bbox_inches='tight')"
   ]
  },
  {
   "cell_type": "markdown",
   "id": "2d25a674",
   "metadata": {
    "id": "2d25a674"
   },
   "source": [
    "## 2. Words as Features"
   ]
  },
  {
   "cell_type": "markdown",
   "id": "0e76c031",
   "metadata": {
    "id": "0e76c031"
   },
   "source": [
    "#### 2.1\n",
    "\"Process the dataset using feature extraction.text.CountVectorizer to extract tokens/words\n",
    "and their frequencies. Display the number of tokens (the size of the vocabulary) in the dataset.\""
   ]
  },
  {
   "cell_type": "code",
   "execution_count": null,
   "id": "424fa24a",
   "metadata": {
    "id": "424fa24a"
   },
   "outputs": [],
   "source": [
    "vectorizer = CountVectorizer(analyzer='word')\n",
    "X = vectorizer.fit_transform(df['Text'])\n",
    "y= df[['Sentiment','Emotion']]\n",
    "print(\"The size of the vocabulary in this case is:\", len(vectorizer.get_feature_names_out()))"
   ]
  },
  {
   "cell_type": "markdown",
   "id": "_O0tbhKZXEKd",
   "metadata": {
    "id": "_O0tbhKZXEKd"
   },
   "source": [
    "#### 2.2"
   ]
  },
  {
   "cell_type": "markdown",
   "id": "WdA_GbtOXT6u",
   "metadata": {
    "id": "WdA_GbtOXT6u"
   },
   "source": [
    "Split the dataset into 80% for training and 20% for testing"
   ]
  },
  {
   "cell_type": "code",
   "execution_count": null,
   "id": "5IHANdh0W_Zg",
   "metadata": {
    "id": "5IHANdh0W_Zg"
   },
   "outputs": [],
   "source": [
    "X_train, X_test, y_train, y_test = train_test_split(X, y, test_size=0.20)"
   ]
  },
  {
   "cell_type": "markdown",
   "id": "22vUads-Y2Rc",
   "metadata": {
    "id": "22vUads-Y2Rc"
   },
   "source": [
    "#### 2.3\n",
    "\n",
    "\"Train and test the following classifiers, for both the emotion and the sentiment classification, using word frequency as features.\""
   ]
  },
  {
   "cell_type": "markdown",
   "id": "nJmk9P1CetkX",
   "metadata": {
    "id": "nJmk9P1CetkX"
   },
   "source": [
    "###### 2.3.1 Multinomial Naive Bayes Classifier"
   ]
  },
  {
   "cell_type": "code",
   "execution_count": null,
   "id": "-YgkFIWjW_kB",
   "metadata": {
    "id": "-YgkFIWjW_kB"
   },
   "outputs": [],
   "source": [
    "# Emotion\n",
    "nb_emotion = MultinomialNB()\n",
    "nb_emotion=nb_emotion.fit(X_train, y_train['Emotion'])\n",
    "y_pred=nb_emotion.predict(X_test)\n",
    "\n",
    "# Classification report for 2.4\n",
    "description=\"Multinomial Naive Bayes classification of Emotion with default hyperparameters: alpha= 1.0, fit_prior= True,class_prior= None  \\n\"\n",
    "builder.write(description)\n",
    "clf_report=classification_report(y_test['Emotion'], y_pred,labels=np.unique(y_pred),output_dict=True)\n",
    "fig, ax = plt.subplots(figsize=(10,10)) \n",
    "smap=sns.heatmap(pd.DataFrame(clf_report).iloc[:-1, :].T, annot=True)\n",
    "fig = smap.get_figure()\n",
    "fig.savefig(\"report.png\")\n",
    "builder.write(\"Classification Report: \\n\")\n",
    "builder.insert_image(\"report.png\")\n",
    "builder.write(\"\\n\")\n",
    "builder.write(\"Confusion Matrix \\n\")\n",
    "cf_matrix=confusion_matrix(y_test['Emotion'], y_pred)\n",
    "fig, ax = plt.subplots(figsize=(20,20))    \n",
    "cmap=sns.heatmap(cf_matrix, annot=True,fmt='g', ax=ax)\n",
    "axis=pd.crosstab(y_test['Emotion'], y_pred, rownames=['True'], colnames=['Predicted'], margins=True)\n",
    "axis=list(axis.index)[:-1]\n",
    "ax.set_xlabel('Predicted labels');\n",
    "ax.set_ylabel('True labels'); \n",
    "ax.tick_params(axis='both', which='major', labelsize=8)\n",
    "ax.xaxis.set_ticklabels(axis);\n",
    "ax.yaxis.set_ticklabels(axis)\n",
    "fig = cmap.get_figure()\n",
    "fig.savefig(\"cmatrix.png\")\n",
    "builder.insert_image(\"cmatrix.png\")\n"
   ]
  },
  {
   "cell_type": "code",
   "execution_count": null,
   "id": "k4XKVzrmbDz_",
   "metadata": {
    "id": "k4XKVzrmbDz_"
   },
   "outputs": [],
   "source": [
    "# Sentiment \n",
    "nb_sentiment = MultinomialNB()\n",
    "nb_sentiment = nb_sentiment.fit(X_train, y_train['Sentiment'])\n",
    "y_pred=nb_sentiment.predict(X_test)\n",
    "\n",
    "# Classification report for 2.4\n",
    "description=\"Multinomial Naive Bayes classification of Sentiment with default hyperparameters: alpha= 1.0, fit_prior= True,class_prior= None  \\n\"\n",
    "builder.write(description)\n",
    "clf_report=classification_report(y_test['Sentiment'], y_pred,labels=np.unique(y_pred),output_dict=True)\n",
    "smap=sns.heatmap(pd.DataFrame(clf_report).iloc[:-1, :].T, annot=True)\n",
    "fig = smap.get_figure()\n",
    "fig.savefig(\"report.png\") \n",
    "builder.insert_image(\"report.png\")\n",
    "builder.write(\"\\n\")"
   ]
  },
  {
   "cell_type": "markdown",
   "id": "PKBF8KG_gY-z",
   "metadata": {
    "id": "PKBF8KG_gY-z"
   },
   "source": [
    "###### 2.3.1 Decision Tree"
   ]
  },
  {
   "cell_type": "code",
   "execution_count": null,
   "id": "bu9G6tc9c3Ld",
   "metadata": {
    "id": "bu9G6tc9c3Ld"
   },
   "outputs": [],
   "source": [
    "# Emotion\n",
    "dt_emotion = DecisionTreeClassifier()\n",
    "dt_emotion = dt_emotion.fit(X_train, y_train['Emotion'])\n",
    "y_pred=dt_emotion.predict(X_test)\n",
    "\n",
    "# Classification report for 2.4\n",
    "description=\"Decision Tree classification of Emotion with default hyperparameters: criterion(quality of split)= 'gini'(Gini impurity), splitter= 'best' (choose the best split), max_depth=None, min_sample_leaf=1...  \\n\"\n",
    "builder.write(description)\n",
    "clf_report=classification_report(y_test['Emotion'], y_pred,labels=np.unique(y_pred),output_dict=True)\n",
    "smap=sns.heatmap(pd.DataFrame(clf_report).iloc[:-1, :].T, annot=True)\n",
    "fig = smap.get_figure()\n",
    "fig.savefig(\"report.png\")\n",
    "builder.write(\"Classification Report: \\n\")\n",
    "builder.insert_image(\"report.png\")\n",
    "builder.write(\"\\n\")\n",
    "builder.write(\"Confusion Matrix \\n\")\n",
    "cf_matrix=confusion_matrix(y_test['Emotion'], y_pred)\n",
    "fig, ax = plt.subplots(figsize=(20,20))    \n",
    "cmap=sns.heatmap(cf_matrix, annot=True,fmt='g', ax=ax)\n",
    "axis=pd.crosstab(y_test['Emotion'], y_pred, rownames=['True'], colnames=['Predicted'], margins=True)\n",
    "axis=list(axis.index)[:-1]\n",
    "ax.set_xlabel('Predicted labels');\n",
    "ax.set_ylabel('True labels'); \n",
    "ax.tick_params(axis='both', which='major', labelsize=8)\n",
    "ax.xaxis.set_ticklabels(axis);\n",
    "ax.yaxis.set_ticklabels(axis)\n",
    "fig = cmap.get_figure()\n",
    "fig.savefig(\"cmatrix.png\")\n",
    "builder.insert_image(\"cmatrix.png\")"
   ]
  },
  {
   "cell_type": "code",
   "execution_count": null,
   "id": "dJtHZM9FogBF",
   "metadata": {
    "id": "dJtHZM9FogBF"
   },
   "outputs": [],
   "source": [
    "#get depth to take into account later\n",
    "print(\"depth of tree\", dt_emotion.tree_.max_depth)"
   ]
  },
  {
   "cell_type": "code",
   "execution_count": null,
   "id": "vMW9pqWRgxd0",
   "metadata": {
    "id": "vMW9pqWRgxd0"
   },
   "outputs": [],
   "source": [
    "# Sentiment\n",
    "dt_sentiment = DecisionTreeClassifier()\n",
    "dt_sentiment = dt_sentiment.fit(X_train, y_train['Sentiment'])\n",
    "y_pred=dt_sentiment.predict(X_test)\n",
    "#takes a long time to run\n",
    "\n",
    "# Classification report for 2.4\n",
    "description=\"Decision Tree classification of Sentiment with default hyperparameters: criterion(quality of split)= 'gini'(Gini impurity), splitter= 'best' (choose the best split), max_depth=None, min_sample_leaf=1...  \\n\"\n",
    "builder.write(description)\n",
    "clf_report=classification_report(y_test['Emotion'], y_pred,labels=np.unique(y_pred),output_dict=True)\n",
    "smap=sns.heatmap(pd.DataFrame(clf_report).iloc[:-1, :].T, annot=True)\n",
    "fig = smap.get_figure()\n",
    "fig.savefig(\"report.png\")\n",
    "builder.write(\"Classification Report: \\n\")\n",
    "builder.insert_image(\"report.png\")\n",
    "builder.write(\"\\n\")\n",
    "builder.write(\"Confusion Matrix \\n\")\n",
    "cf_matrix=confusion_matrix(y_test['Emotion'], y_pred)\n",
    "fig, ax = plt.subplots(figsize=(20,20))    \n",
    "cmap=sns.heatmap(cf_matrix, annot=True,fmt='g', ax=ax)\n",
    "axis=pd.crosstab(y_test['Sentiment'], y_pred, rownames=['True'], colnames=['Predicted'], margins=True)\n",
    "axis=list(axis.index)[:-1]\n",
    "ax.set_xlabel('Predicted labels');\n",
    "ax.set_ylabel('True labels'); \n",
    "ax.tick_params(axis='both', which='major', labelsize=8)\n",
    "ax.xaxis.set_ticklabels(axis);\n",
    "ax.yaxis.set_ticklabels(axis)\n",
    "fig = cmap.get_figure()\n",
    "fig.savefig(\"cmatrix.png\")\n",
    "builder.insert_image(\"cmatrix.png\")"
   ]
  },
  {
   "cell_type": "code",
   "execution_count": null,
   "id": "pYwOsoLool2F",
   "metadata": {
    "id": "pYwOsoLool2F"
   },
   "outputs": [],
   "source": [
    "#get depth to take into account later\n",
    "print(\"depth of tree\", dt_sentiment.tree_.max_depth)"
   ]
  },
  {
   "cell_type": "markdown",
   "id": "QOuwAaB3hAku",
   "metadata": {
    "id": "QOuwAaB3hAku"
   },
   "source": [
    "###### 2.3.1 Multi-Layered Perceptron"
   ]
  },
  {
   "cell_type": "code",
   "execution_count": null,
   "id": "dMvhJ7K6h0_9",
   "metadata": {
    "id": "dMvhJ7K6h0_9"
   },
   "outputs": [],
   "source": [
    "# Emotion\n",
    "mlp_emotion = MLPClassifier()\n",
    "mlp_emotion= mlp_emotion.fit(X_train, y_train['Emotion'])\n",
    "y_pred=mlp_emotion.predict(X_test)\n",
    "\n",
    "# Classification report for 2.4\n",
    "description=\"Multi-Layered perceptron classificator for Emotion with default hyperparameters: one hidden layer with 100 neurons, activation= 'relu',solver='adam', alpha(regularization)=0.0001... \\n\"\n",
    "builder.write(description)\n",
    "clf_report=classification_report(y_test['Emotion'], y_pred,labels=np.unique(y_pred),output_dict=True)\n",
    "smap=sns.heatmap(pd.DataFrame(clf_report).iloc[:-1, :].T, annot=True)\n",
    "fig = smap.get_figure()\n",
    "fig.savefig(\"report.png\")\n",
    "builder.write(\"Classification Report: \\n\")\n",
    "builder.insert_image(\"report.png\")\n",
    "builder.write(\"\\n\")\n",
    "builder.write(\"Confusion Matrix \\n\")\n",
    "cf_matrix=confusion_matrix(y_test['Emotion'], y_pred)\n",
    "fig, ax = plt.subplots(figsize=(20,20))    \n",
    "cmap=sns.heatmap(cf_matrix, annot=True,fmt='g', ax=ax)\n",
    "axis=pd.crosstab(y_test['Emotion'], y_pred, rownames=['True'], colnames=['Predicted'], margins=True)\n",
    "axis=list(axis.index)[:-1]\n",
    "ax.set_xlabel('Predicted labels');\n",
    "ax.set_ylabel('True labels'); \n",
    "ax.tick_params(axis='both', which='major', labelsize=8)\n",
    "ax.xaxis.set_ticklabels(axis);\n",
    "ax.yaxis.set_ticklabels(axis)\n",
    "fig = cmap.get_figure()\n",
    "fig.savefig(\"cmatrix.png\")\n",
    "builder.insert_image(\"cmatrix.png\")"
   ]
  },
  {
   "cell_type": "code",
   "execution_count": null,
   "id": "Vk-LveSmiEj9",
   "metadata": {
    "id": "Vk-LveSmiEj9"
   },
   "outputs": [],
   "source": [
    "# Sentiment\n",
    "mlp_sentiment = MLPClassifier()\n",
    "mlp_sentiment= mlp_sentiment.fit(X_train, y_train['Sentiment'])\n",
    "y_pred=mlp_sentiment.predict(X_test)\n",
    "\n",
    "# Classification report for 2.4\n",
    "description=\"Multi-Layered perceptron classificator for Sentiment with default hyperparameters: one hidden layer with 100 neurons, activation= 'relu',solver='adam', alpha(regularization)=0.0001... \\n\"\n",
    "builder.write(description)\n",
    "clf_report=classification_report(y_test['Sentiment'], y_pred,labels=np.unique(y_pred),output_dict=True)\n",
    "smap=sns.heatmap(pd.DataFrame(clf_report).iloc[:-1, :].T, annot=True)\n",
    "fig = smap.get_figure()\n",
    "fig.savefig(\"report.png\")\n",
    "builder.write(\"Classification Report: \\n\")\n",
    "builder.insert_image(\"report.png\")\n",
    "builder.write(\"\\n\")\n",
    "builder.write(\"Confusion Matrix \\n\")\n",
    "cf_matrix=confusion_matrix(y_test['Emotion'], y_pred)\n",
    "fig, ax = plt.subplots(figsize=(20,20))    \n",
    "cmap=sns.heatmap(cf_matrix, annot=True,fmt='g', ax=ax)\n",
    "axis=pd.crosstab(y_test['Sentiment'], y_pred, rownames=['True'], colnames=['Predicted'], margins=True)\n",
    "axis=list(axis.index)[:-1]\n",
    "ax.set_xlabel('Predicted labels');\n",
    "ax.set_ylabel('True labels'); \n",
    "ax.tick_params(axis='both', which='major', labelsize=8)\n",
    "ax.xaxis.set_ticklabels(axis);\n",
    "ax.yaxis.set_ticklabels(axis)\n",
    "fig = cmap.get_figure()\n",
    "fig.savefig(\"cmatrix.png\")\n",
    "builder.insert_image(\"cmatrix.png\")\n"
   ]
  },
  {
   "cell_type": "markdown",
   "id": "cP6rN-MYiQUz",
   "metadata": {
    "id": "cP6rN-MYiQUz"
   },
   "source": [
    "###### 2.3.4 **Better** Multinomial Naive Bayes Classifier"
   ]
  },
  {
   "cell_type": "code",
   "execution_count": null,
   "id": "BK9VvVAFicqQ",
   "metadata": {
    "id": "BK9VvVAFicqQ"
   },
   "outputs": [],
   "source": [
    "# Emotion\n",
    "nb_emotion = MultinomialNB()\n",
    "\n",
    "\n",
    "param_grid = {\n",
    "    \"alpha\": [0.25,0.5,1.2, 0, 2]\n",
    "}\n",
    "\n",
    "grid_search = GridSearchCV(MultinomialNB(), param_grid, cv=3, verbose=2, n_jobs=-1)\n",
    "grid_search.fit(X_train, y_train['Emotion'])\n",
    "\n",
    "# best parameter after tuning \n",
    "print(grid_search.best_params_) \n",
    "y_pred = grid_search.predict(X_test) \n",
    "   \n",
    "# Classification report for 2.4\n",
    "description=\"Better Multinomial Naive Bayes for emotion classification with hyperparameters tunned by grid search:\"+grid.best_params_\n",
    "builder.write(description)\n",
    "clf_report=classification_report(y_test['Emotion'], y_pred,labels=np.unique(y_pred),output_dict=True)\n",
    "smap=sns.heatmap(pd.DataFrame(clf_report).iloc[:-1, :].T, annot=True)\n",
    "fig = smap.get_figure()\n",
    "fig.savefig(\"report.png\")\n",
    "builder.write(\"Classification Report: \\n\")\n",
    "builder.insert_image(\"report.png\")\n",
    "builder.write(\"\\n\")\n",
    "builder.write(\"Confusion Matrix \\n\")\n",
    "cf_matrix=confusion_matrix(y_test['Emotion'], y_pred)\n",
    "fig, ax = plt.subplots(figsize=(20,20))    \n",
    "cmap=sns.heatmap(cf_matrix, annot=True,fmt='g', ax=ax)\n",
    "axis=pd.crosstab(y_test['Emotion'], y_pred, rownames=['True'], colnames=['Predicted'], margins=True)\n",
    "axis=list(axis.index)[:-1]\n",
    "ax.set_xlabel('Predicted labels');\n",
    "ax.set_ylabel('True labels'); \n",
    "ax.tick_params(axis='both', which='major', labelsize=8)\n",
    "ax.xaxis.set_ticklabels(axis);\n",
    "ax.yaxis.set_ticklabels(axis)\n",
    "fig = cmap.get_figure()\n",
    "fig.savefig(\"cmatrix.png\")\n",
    "builder.insert_image(\"cmatrix.png\")\n",
    "    \n",
    "    \n",
    "    \n",
    "\n"
   ]
  },
  {
   "cell_type": "code",
   "execution_count": null,
   "id": "rJnyfadbQx9G",
   "metadata": {
    "id": "rJnyfadbQx9G"
   },
   "outputs": [],
   "source": [
    "# Sentiment\n",
    "nb_emotion = MultinomialNB()\n",
    "\n",
    "\n",
    "param_grid = {\n",
    "    \"alpha\": [0.25,0.5,1.2, 0, 2]\n",
    "}\n",
    "\n",
    "grid_search = GridSearchCV(MultinomialNB(), param_grid, cv=3, verbose=2, n_jobs=-1)\n",
    "grid_search.fit(X_train, y_train['Sentiment'])\n",
    "\n",
    "# best parameter after tuning \n",
    "print(grid_search.best_params_) \n",
    "y_pred = grid_search.predict(X_test) \n",
    "   \n",
    "# Classification report for 2.4\n",
    "description=\"Better Multinomial Naive Bayes for sentiment classification with hyperparameters tunned by grid search:\"+grid.best_params_\n",
    "builder.write(description)\n",
    "clf_report=classification_report(y_test['Sentiment'], y_pred,labels=np.unique(y_pred),output_dict=True)\n",
    "smap=sns.heatmap(pd.DataFrame(clf_report).iloc[:-1, :].T, annot=True)\n",
    "fig = smap.get_figure()\n",
    "fig.savefig(\"report.png\")\n",
    "builder.write(\"Classification Report: \\n\")\n",
    "builder.insert_image(\"report.png\")\n",
    "builder.write(\"\\n\")\n",
    "builder.write(\"Confusion Matrix \\n\")\n",
    "cf_matrix=confusion_matrix(y_test['Sentiment'], y_pred)\n",
    "fig, ax = plt.subplots(figsize=(20,20))    \n",
    "cmap=sns.heatmap(cf_matrix, annot=True,fmt='g', ax=ax)\n",
    "axis=pd.crosstab(y_test['Emotion'], y_pred, rownames=['True'], colnames=['Predicted'], margins=True)\n",
    "axis=list(axis.index)[:-1]\n",
    "ax.set_xlabel('Predicted labels');\n",
    "ax.set_ylabel('True labels'); \n",
    "ax.tick_params(axis='both', which='major', labelsize=8)\n",
    "ax.xaxis.set_ticklabels(axis);\n",
    "ax.yaxis.set_ticklabels(axis)\n",
    "fig = cmap.get_figure()\n",
    "fig.savefig(\"cmatrix.png\")\n",
    "builder.insert_image(\"cmatrix.png\")\n"
   ]
  },
  {
   "cell_type": "markdown",
   "id": "kTE8o1mtQ-J4",
   "metadata": {
    "id": "kTE8o1mtQ-J4"
   },
   "source": [
    "###### 2.3.4 **Better** Decision Tree"
   ]
  },
  {
   "cell_type": "code",
   "execution_count": null,
   "id": "RwHvi0wqRFZ2",
   "metadata": {
    "id": "RwHvi0wqRFZ2"
   },
   "outputs": [],
   "source": [
    "# Emotion\n",
    "param_grid = {\n",
    "    \"criterion\":[\"gini\",\"entropy\"],\n",
    "    \"max_depth\":[700, 1000],\n",
    "    \"min_samples_split\":[0.1,0.50,0.70]\n",
    "}\n",
    "\n",
    "grid_search = GridSearchCV(DecisionTreeClassifier(), param_grid, cv=3, verbose=2, n_jobs=-1)\n",
    "print(grid_search.get_params().keys())\n",
    "grid_search.fit(X_train, y_train['Emotion'])\n",
    "\n",
    "# best parameter after tuning \n",
    "print(grid_search.best_params_) \n",
    "y_pred = grid_search.predict(X_test) \n",
    "   \n",
    "# Classification report for 2.4\n",
    "description=\"Better Desicion Tree for emotion classification with hyperparameters tunned by grid search:\"+grid.best_params_\n",
    "builder.write(description)\n",
    "clf_report=classification_report(y_test['Emotion'], y_pred,labels=np.unique(y_pred),output_dict=True)\n",
    "smap=sns.heatmap(pd.DataFrame(clf_report).iloc[:-1, :].T, annot=True)\n",
    "fig = smap.get_figure()\n",
    "fig.savefig(\"report.png\")\n",
    "builder.write(\"Classification Report: \\n\")\n",
    "builder.insert_image(\"report.png\")\n",
    "builder.write(\"\\n\")\n",
    "builder.write(\"Confusion Matrix \\n\")\n",
    "cf_matrix=confusion_matrix(y_test['Emotion'], y_pred)\n",
    "fig, ax = plt.subplots(figsize=(20,20))    \n",
    "cmap=sns.heatmap(cf_matrix, annot=True,fmt='g', ax=ax)\n",
    "axis=pd.crosstab(y_test['Emotion'], y_pred, rownames=['True'], colnames=['Predicted'], margins=True)\n",
    "axis=list(axis.index)[:-1]\n",
    "ax.set_xlabel('Predicted labels');\n",
    "ax.set_ylabel('True labels'); \n",
    "ax.tick_params(axis='both', which='major', labelsize=8)\n",
    "ax.xaxis.set_ticklabels(axis);\n",
    "ax.yaxis.set_ticklabels(axis)\n",
    "fig = cmap.get_figure()\n",
    "fig.savefig(\"cmatrix.png\")\n",
    "builder.insert_image(\"cmatrix.png\")\n"
   ]
  },
  {
   "cell_type": "code",
   "execution_count": null,
   "id": "EbC4ZhA5vtya",
   "metadata": {
    "id": "EbC4ZhA5vtya"
   },
   "outputs": [],
   "source": [
    "# Sentiment\n",
    "param_grid = {\n",
    "    \"criterion\":[\"gini\",\"entropy\"],\n",
    "    \"max_depth\":[700, 1000],\n",
    "    \"min_samples_split\":[0.1,0.50,0.70]\n",
    "}\n",
    "\n",
    "grid_search = GridSearchCV(DecisionTreeClassifier(), param_grid, cv=3, verbose=2, n_jobs=-1)\n",
    "print(grid_search.get_params().keys())\n",
    "grid_search.fit(X_train, y_train['Sentiment'])\n",
    "\n",
    "# best parameter after tuning \n",
    "print(grid_search.best_params_) \n",
    "y_pred = grid_search.predict(X_test) \n",
    "   \n",
    "# Classification report for 2.4\n",
    "description=\"Better Multinomial Naive Bayes for emotion classification with hyperparameters tunned by grid search:\"+grid.best_params_\n",
    "builder.write(description)\n",
    "clf_report=classification_report(y_test['Sentiment'], y_pred,labels=np.unique(y_pred),output_dict=True)\n",
    "smap=sns.heatmap(pd.DataFrame(clf_report).iloc[:-1, :].T, annot=True)\n",
    "fig = smap.get_figure()\n",
    "fig.savefig(\"report.png\")\n",
    "builder.write(\"Classification Report: \\n\")\n",
    "builder.insert_image(\"report.png\")\n",
    "builder.write(\"\\n\")\n",
    "builder.write(\"Confusion Matrix \\n\")\n",
    "cf_matrix=confusion_matrix(y_test['Sentiment'], y_pred)\n",
    "fig, ax = plt.subplots(figsize=(20,20))    \n",
    "cmap=sns.heatmap(cf_matrix, annot=True,fmt='g', ax=ax)\n",
    "axis=pd.crosstab(y_test['Sentiment'], y_pred, rownames=['True'], colnames=['Predicted'], margins=True)\n",
    "axis=list(axis.index)[:-1]\n",
    "ax.set_xlabel('Predicted labels');\n",
    "ax.set_ylabel('True labels'); \n",
    "ax.tick_params(axis='both', which='major', labelsize=8)\n",
    "ax.xaxis.set_ticklabels(axis);\n",
    "ax.yaxis.set_ticklabels(axis)\n",
    "fig = cmap.get_figure()\n",
    "fig.savefig(\"cmatrix.png\")\n",
    "builder.insert_image(\"cmatrix.png\")\n",
    "\n"
   ]
  },
  {
   "cell_type": "markdown",
   "id": "Ok29Q3UcwpR4",
   "metadata": {
    "id": "Ok29Q3UcwpR4"
   },
   "source": [
    "###### 2.3.4 **Better** Multilayered Perceptron"
   ]
  },
  {
   "cell_type": "code",
   "execution_count": null,
   "id": "M2d0No4dwGtX",
   "metadata": {
    "id": "M2d0No4dwGtX"
   },
   "outputs": [],
   "source": [
    "# Emotion\n",
    "param_grid = {\n",
    "    \"activation\":['sigmoid', 'identity', 'tanh', 'relu'],\n",
    "    \"hidden_layer_sizes\":[(1,100), (2,30)],\n",
    "    \"solver\":['adam','sgd']\n",
    "}\n",
    "\n",
    "grid_search = GridSearchCV(MLPClassifier(), param_grid, cv=3, verbose=2, n_jobs=-1)\n",
    "print(grid_search.get_params().keys())\n",
    "grid_search.fit(X_train, y_train['Emotion'])\n",
    "\n",
    "# best parameter after tuning \n",
    "print(grid_search.best_params_) \n",
    "y_pred = grid_search.predict(X_test) \n",
    "   \n",
    "# Classification report for 2.4\n",
    "description=\"Better Multilayered Perceptron for emotion classification with hyperparameters tunned by grid search:\"+grid.best_params_\n",
    "builder.write(description)\n",
    "clf_report=classification_report(y_test['Emotion'], y_pred,labels=np.unique(y_pred),output_dict=True)\n",
    "smap=sns.heatmap(pd.DataFrame(clf_report).iloc[:-1, :].T, annot=True)\n",
    "fig = smap.get_figure()\n",
    "fig.savefig(\"report.png\")\n",
    "builder.write(\"Classification Report: \\n\")\n",
    "builder.insert_image(\"report.png\")\n",
    "builder.write(\"\\n\")\n",
    "builder.write(\"Confusion Matrix \\n\")\n",
    "cf_matrix=confusion_matrix(y_test['Emotion'], y_pred)\n",
    "fig, ax = plt.subplots(figsize=(20,20))    \n",
    "cmap=sns.heatmap(cf_matrix, annot=True,fmt='g', ax=ax)\n",
    "axis=pd.crosstab(y_test['Emotion'], y_pred, rownames=['True'], colnames=['Predicted'], margins=True)\n",
    "axis=list(axis.index)[:-1]\n",
    "ax.set_xlabel('Predicted labels');\n",
    "ax.set_ylabel('True labels'); \n",
    "ax.tick_params(axis='both', which='major', labelsize=8)\n",
    "ax.xaxis.set_ticklabels(axis);\n",
    "ax.yaxis.set_ticklabels(axis)\n",
    "fig = cmap.get_figure()\n",
    "fig.savefig(\"cmatrix.png\")\n",
    "builder.insert_image(\"cmatrix.png\")\n",
    "\n"
   ]
  },
  {
   "cell_type": "code",
   "execution_count": null,
   "id": "d76671a1",
   "metadata": {
    "id": "d76671a1"
   },
   "outputs": [],
   "source": [
    "# Sentiment\n",
    "param_grid = {\n",
    "    \"activation\":['sigmoid', 'identity', 'tanh', 'relu'],\n",
    "    \"hidden_layer_sizes\":[(1,100), (2,30)],\n",
    "    \"solver\":['adam','sgd']\n",
    "}\n",
    "\n",
    "grid_search = GridSearchCV(MLPClassifier(), param_grid, cv=3, verbose=2, n_jobs=-1)\n",
    "print(grid_search.get_params().keys())\n",
    "grid_search.fit(X_train, y_train['Sentiment'])\n",
    "\n",
    "# best parameter after tuning \n",
    "print(grid_search.best_params_) \n",
    "y_pred = grid_search.predict(X_test) \n",
    "   \n",
    "# Classification report for 2.4\n",
    "description=\"Better Multilayered Perceptron for sentiment classification with hyperparameters tunned by grid search:\"+grid.best_params_\n",
    "builder.write(description)\n",
    "clf_report=classification_report(y_test['Sentiment'], y_pred,labels=np.unique(y_pred),output_dict=True)\n",
    "smap=sns.heatmap(pd.DataFrame(clf_report).iloc[:-1, :].T, annot=True)\n",
    "fig = smap.get_figure()\n",
    "fig.savefig(\"report.png\")\n",
    "builder.write(\"Classification Report: \\n\")\n",
    "builder.insert_image(\"report.png\")\n",
    "builder.write(\"\\n\")\n",
    "builder.write(\"Confusion Matrix \\n\")\n",
    "cf_matrix=confusion_matrix(y_test['Emotion'], y_pred)\n",
    "fig, ax = plt.subplots(figsize=(20,20))    \n",
    "cmap=sns.heatmap(cf_matrix, annot=True,fmt='g', ax=ax)\n",
    "axis=pd.crosstab(y_test['Sentiment'], y_pred, rownames=['True'], colnames=['Sentiment'], margins=True)\n",
    "axis=list(axis.index)[:-1]\n",
    "ax.set_xlabel('Predicted labels');\n",
    "ax.set_ylabel('True labels'); \n",
    "ax.tick_params(axis='both', which='major', labelsize=8)\n",
    "ax.xaxis.set_ticklabels(axis);\n",
    "ax.yaxis.set_ticklabels(axis)\n",
    "fig = cmap.get_figure()\n",
    "fig.savefig(\"cmatrix.png\")\n",
    "builder.insert_image(\"cmatrix.png\")\n",
    "\n"
   ]
  },
  {
   "cell_type": "markdown",
   "id": "0087d246",
   "metadata": {
    "id": "0087d246"
   },
   "source": [
    "###### 2.4 Produce and save the following information in a file called performance"
   ]
  },
  {
   "cell_type": "code",
   "execution_count": null,
   "id": "f7cee8d8",
   "metadata": {
    "id": "f7cee8d8"
   },
   "outputs": [],
   "source": [
    "# save document\n",
    "#doc.save(\"performance.docx\")"
   ]
  },
  {
   "cell_type": "markdown",
   "id": "58ce9d53",
   "metadata": {
    "id": "58ce9d53"
   },
   "source": [
    "###### 2.5  Use tf-idf instead of word frequencies and redo all substeps of 2.3 above"
   ]
  },
  {
   "cell_type": "code",
   "execution_count": null,
   "id": "WWxcBek-FLJq",
   "metadata": {
    "id": "WWxcBek-FLJq"
   },
   "outputs": [],
   "source": [
    "vectorizer = TfidfVectorizer()\n",
    "X= vectorizer.fit_transform(df['Text'])\n",
    "X_train, X_test, y_train, y_test = train_test_split(X, y, test_size=0.20)\n",
    "doc = aw.Document()\n",
    "builder = aw.DocumentBuilder(doc)\n",
    "builder.writeln(\"2.5 Repetition of steps of 2.3 with tf-idf\")"
   ]
  },
  {
   "cell_type": "markdown",
   "id": "EMIGXySkHC9-",
   "metadata": {
    "id": "EMIGXySkHC9-"
   },
   "source": [
    "###### 2.5.1 Multinomial Naive Bayes Classifier with tf-idf\n",
    "\n",
    "\n"
   ]
  },
  {
   "cell_type": "code",
   "execution_count": null,
   "id": "5GTjnk7bHC-S",
   "metadata": {
    "id": "5GTjnk7bHC-S"
   },
   "outputs": [],
   "source": [
    "# Emotion\n",
    "nb_emotion = MultinomialNB()\n",
    "nb_emotion=nb_emotion.fit(X_train, y_train['Emotion'])\n",
    "y_pred=nb_emotion.predict(X_test)\n",
    "\n",
    "# Classification report for 2.4\n",
    "description=\"Multinomial Naive Bayes classification of Emotion with default hyperparameters: alpha= 1.0, fit_prior= True,class_prior= None  \\n\"\n",
    "builder.write(description)\n",
    "clf_report=classification_report(y_test['Emotion'], y_pred,labels=np.unique(y_pred),output_dict=True)\n",
    "fig, ax = plt.subplots(figsize=(10,10)) \n",
    "smap=sns.heatmap(pd.DataFrame(clf_report).iloc[:-1, :].T, annot=True)\n",
    "fig = smap.get_figure()\n",
    "fig.savefig(\"report.png\")\n",
    "builder.write(\"Classification Report: \\n\")\n",
    "builder.insert_image(\"report.png\")\n",
    "builder.write(\"\\n\")\n",
    "builder.write(\"Confusion Matrix \\n\")\n",
    "cf_matrix=confusion_matrix(y_test['Emotion'], y_pred)\n",
    "fig, ax = plt.subplots(figsize=(20,20))    \n",
    "cmap=sns.heatmap(cf_matrix, annot=True,fmt='g', ax=ax)\n",
    "axis=pd.crosstab(y_test['Emotion'], y_pred, rownames=['True'], colnames=['Predicted'], margins=True)\n",
    "axis=list(axis.index)[:-1]\n",
    "ax.set_xlabel('Predicted labels');\n",
    "ax.set_ylabel('True labels'); \n",
    "ax.tick_params(axis='both', which='major', labelsize=8)\n",
    "ax.xaxis.set_ticklabels(axis);\n",
    "ax.yaxis.set_ticklabels(axis)\n",
    "fig = cmap.get_figure()\n",
    "fig.savefig(\"cmatrix.png\")\n",
    "builder.insert_image(\"cmatrix.png\")\n"
   ]
  },
  {
   "cell_type": "code",
   "execution_count": null,
   "id": "LXiNdsSSHC-S",
   "metadata": {
    "id": "LXiNdsSSHC-S"
   },
   "outputs": [],
   "source": [
    "# Sentiment \n",
    "nb_sentiment = MultinomialNB()\n",
    "nb_sentiment = nb_sentiment.fit(X_train, y_train['Sentiment'])\n",
    "y_pred=nb_sentiment.predict(X_test)\n",
    "\n",
    "# Classification report for 2.4\n",
    "description=\"Multinomial Naive Bayes classification of Sentiment with default hyperparameters: alpha= 1.0, fit_prior= True,class_prior= None  \\n\"\n",
    "builder.write(description)\n",
    "clf_report=classification_report(y_test['Sentiment'], y_pred,labels=np.unique(y_pred),output_dict=True)\n",
    "smap=sns.heatmap(pd.DataFrame(clf_report).iloc[:-1, :].T, annot=True)\n",
    "fig = smap.get_figure()\n",
    "fig.savefig(\"report.png\") \n",
    "builder.insert_image(\"report.png\")\n",
    "builder.write(\"\\n\")"
   ]
  },
  {
   "cell_type": "markdown",
   "id": "c_kBx-MbHC-T",
   "metadata": {
    "id": "c_kBx-MbHC-T"
   },
   "source": [
    "###### 2.5.2 Decision Tree with tf-idf"
   ]
  },
  {
   "cell_type": "code",
   "execution_count": null,
   "id": "jG6pDFfIHC-T",
   "metadata": {
    "id": "jG6pDFfIHC-T"
   },
   "outputs": [],
   "source": [
    "# Emotion\n",
    "dt_emotion = DecisionTreeClassifier()\n",
    "dt_emotion = dt_emotion.fit(X_train, y_train['Emotion'])\n",
    "y_pred=dt_emotion.predict(X_test)\n",
    "\n",
    "# Classification report for 2.4\n",
    "description=\"Decision Tree classification of Emotion with default hyperparameters: criterion(quality of split)= 'gini'(Gini impurity), splitter= 'best' (choose the best split), max_depth=None, min_sample_leaf=1...  \\n\"\n",
    "builder.write(description)\n",
    "clf_report=classification_report(y_test['Emotion'], y_pred,labels=np.unique(y_pred),output_dict=True)\n",
    "smap=sns.heatmap(pd.DataFrame(clf_report).iloc[:-1, :].T, annot=True)\n",
    "fig = smap.get_figure()\n",
    "fig.savefig(\"report.png\")\n",
    "builder.write(\"Classification Report: \\n\")\n",
    "builder.insert_image(\"report.png\")\n",
    "builder.write(\"\\n\")\n",
    "builder.write(\"Confusion Matrix \\n\")\n",
    "cf_matrix=confusion_matrix(y_test['Emotion'], y_pred)\n",
    "fig, ax = plt.subplots(figsize=(20,20))    \n",
    "cmap=sns.heatmap(cf_matrix, annot=True,fmt='g', ax=ax)\n",
    "axis=pd.crosstab(y_test['Emotion'], y_pred, rownames=['True'], colnames=['Predicted'], margins=True)\n",
    "axis=list(axis.index)[:-1]\n",
    "ax.set_xlabel('Predicted labels');\n",
    "ax.set_ylabel('True labels'); \n",
    "ax.tick_params(axis='both', which='major', labelsize=8)\n",
    "ax.xaxis.set_ticklabels(axis);\n",
    "ax.yaxis.set_ticklabels(axis)\n",
    "fig = cmap.get_figure()\n",
    "fig.savefig(\"cmatrix.png\")\n",
    "builder.insert_image(\"cmatrix.png\")"
   ]
  },
  {
   "cell_type": "code",
   "execution_count": null,
   "id": "6iCy7WLwHC-T",
   "metadata": {
    "id": "6iCy7WLwHC-T"
   },
   "outputs": [],
   "source": [
    "#get depth to take into account later\n",
    "print(\"depth of tree\", dt_emotion.tree_.max_depth)"
   ]
  },
  {
   "cell_type": "code",
   "execution_count": null,
   "id": "Vhb3u77mHC-T",
   "metadata": {
    "id": "Vhb3u77mHC-T"
   },
   "outputs": [],
   "source": [
    "# Sentiment\n",
    "dt_sentiment = DecisionTreeClassifier()\n",
    "dt_sentiment = dt_sentiment.fit(X_train, y_train['Sentiment'])\n",
    "y_pred=dt_sentiment.predict(X_test)\n",
    "#takes a long time to run\n",
    "\n",
    "# Classification report for 2.4\n",
    "description=\"Decision Tree classification of Sentiment with default hyperparameters: criterion(quality of split)= 'gini'(Gini impurity), splitter= 'best' (choose the best split), max_depth=None, min_sample_leaf=1...  \\n\"\n",
    "builder.write(description)\n",
    "clf_report=classification_report(y_test['Emotion'], y_pred,labels=np.unique(y_pred),output_dict=True)\n",
    "smap=sns.heatmap(pd.DataFrame(clf_report).iloc[:-1, :].T, annot=True)\n",
    "fig = smap.get_figure()\n",
    "fig.savefig(\"report.png\")\n",
    "builder.write(\"Classification Report: \\n\")\n",
    "builder.insert_image(\"report.png\")\n",
    "builder.write(\"\\n\")\n",
    "builder.write(\"Confusion Matrix \\n\")\n",
    "cf_matrix=confusion_matrix(y_test['Emotion'], y_pred)\n",
    "fig, ax = plt.subplots(figsize=(20,20))    \n",
    "cmap=sns.heatmap(cf_matrix, annot=True,fmt='g', ax=ax)\n",
    "axis=pd.crosstab(y_test['Sentiment'], y_pred, rownames=['True'], colnames=['Predicted'], margins=True)\n",
    "axis=list(axis.index)[:-1]\n",
    "ax.set_xlabel('Predicted labels');\n",
    "ax.set_ylabel('True labels'); \n",
    "ax.tick_params(axis='both', which='major', labelsize=8)\n",
    "ax.xaxis.set_ticklabels(axis);\n",
    "ax.yaxis.set_ticklabels(axis)\n",
    "fig = cmap.get_figure()\n",
    "fig.savefig(\"cmatrix.png\")\n",
    "builder.insert_image(\"cmatrix.png\")"
   ]
  },
  {
   "cell_type": "code",
   "execution_count": null,
   "id": "40zRNN-YHC-U",
   "metadata": {
    "id": "40zRNN-YHC-U"
   },
   "outputs": [],
   "source": [
    "#get depth to take into account later\n",
    "print(\"depth of tree\", dt_sentiment.tree_.max_depth)"
   ]
  },
  {
   "cell_type": "markdown",
   "id": "WGd-hF2xHC-U",
   "metadata": {
    "id": "WGd-hF2xHC-U"
   },
   "source": [
    "###### 2.5.3 Multi-Layered Perceptron with tf-idf"
   ]
  },
  {
   "cell_type": "code",
   "execution_count": null,
   "id": "ghYXqVxrHC-U",
   "metadata": {
    "id": "ghYXqVxrHC-U"
   },
   "outputs": [],
   "source": [
    "# Emotion\n",
    "mlp_emotion = MLPClassifier()\n",
    "mlp_emotion= mlp_emotion.fit(X_train, y_train['Emotion'])\n",
    "y_pred=mlp_emotion.predict(X_test)\n",
    "\n",
    "# Classification report for 2.4\n",
    "description=\"Multi-Layered perceptron classificator for Emotion with default hyperparameters: one hidden layer with 100 neurons, activation= 'relu',solver='adam', alpha(regularization)=0.0001... \\n\"\n",
    "builder.write(description)\n",
    "clf_report=classification_report(y_test['Emotion'], y_pred,labels=np.unique(y_pred),output_dict=True)\n",
    "smap=sns.heatmap(pd.DataFrame(clf_report).iloc[:-1, :].T, annot=True)\n",
    "fig = smap.get_figure()\n",
    "fig.savefig(\"report.png\")\n",
    "builder.write(\"Classification Report: \\n\")\n",
    "builder.insert_image(\"report.png\")\n",
    "builder.write(\"\\n\")\n",
    "builder.write(\"Confusion Matrix \\n\")\n",
    "cf_matrix=confusion_matrix(y_test['Emotion'], y_pred)\n",
    "fig, ax = plt.subplots(figsize=(20,20))    \n",
    "cmap=sns.heatmap(cf_matrix, annot=True,fmt='g', ax=ax)\n",
    "axis=pd.crosstab(y_test['Emotion'], y_pred, rownames=['True'], colnames=['Predicted'], margins=True)\n",
    "axis=list(axis.index)[:-1]\n",
    "ax.set_xlabel('Predicted labels');\n",
    "ax.set_ylabel('True labels'); \n",
    "ax.tick_params(axis='both', which='major', labelsize=8)\n",
    "ax.xaxis.set_ticklabels(axis);\n",
    "ax.yaxis.set_ticklabels(axis)\n",
    "fig = cmap.get_figure()\n",
    "fig.savefig(\"cmatrix.png\")\n",
    "builder.insert_image(\"cmatrix.png\")"
   ]
  },
  {
   "cell_type": "code",
   "execution_count": null,
   "id": "o44NCLRxHC-U",
   "metadata": {
    "id": "o44NCLRxHC-U"
   },
   "outputs": [],
   "source": [
    "# Sentiment\n",
    "mlp_sentiment = MLPClassifier()\n",
    "mlp_sentiment= mlp_sentiment.fit(X_train, y_train['Sentiment'])\n",
    "y_pred=mlp_sentiment.predict(X_test)\n",
    "\n",
    "# Classification report for 2.4\n",
    "description=\"Multi-Layered perceptron classificator for Sentiment with default hyperparameters: one hidden layer with 100 neurons, activation= 'relu',solver='adam', alpha(regularization)=0.0001... \\n\"\n",
    "builder.write(description)\n",
    "clf_report=classification_report(y_test['Sentiment'], y_pred,labels=np.unique(y_pred),output_dict=True)\n",
    "smap=sns.heatmap(pd.DataFrame(clf_report).iloc[:-1, :].T, annot=True)\n",
    "fig = smap.get_figure()\n",
    "fig.savefig(\"report.png\")\n",
    "builder.write(\"Classification Report: \\n\")\n",
    "builder.insert_image(\"report.png\")\n",
    "builder.write(\"\\n\")\n",
    "builder.write(\"Confusion Matrix \\n\")\n",
    "cf_matrix=confusion_matrix(y_test['Emotion'], y_pred)\n",
    "fig, ax = plt.subplots(figsize=(20,20))    \n",
    "cmap=sns.heatmap(cf_matrix, annot=True,fmt='g', ax=ax)\n",
    "axis=pd.crosstab(y_test['Sentiment'], y_pred, rownames=['True'], colnames=['Predicted'], margins=True)\n",
    "axis=list(axis.index)[:-1]\n",
    "ax.set_xlabel('Predicted labels');\n",
    "ax.set_ylabel('True labels'); \n",
    "ax.tick_params(axis='both', which='major', labelsize=8)\n",
    "ax.xaxis.set_ticklabels(axis);\n",
    "ax.yaxis.set_ticklabels(axis)\n",
    "fig = cmap.get_figure()\n",
    "fig.savefig(\"cmatrix.png\")\n",
    "builder.insert_image(\"cmatrix.png\")\n"
   ]
  },
  {
   "cell_type": "markdown",
   "id": "OtBV-Uf7HC-V",
   "metadata": {
    "id": "OtBV-Uf7HC-V"
   },
   "source": [
    "###### 2.5.4 **Better** Multinomial Naive Bayes Classifier with tf-idf"
   ]
  },
  {
   "cell_type": "code",
   "execution_count": null,
   "id": "ufyHAVAwHC-V",
   "metadata": {
    "id": "ufyHAVAwHC-V"
   },
   "outputs": [],
   "source": [
    "# Emotion\n",
    "nb_emotion = MultinomialNB()\n",
    "\n",
    "\n",
    "param_grid = {\n",
    "    \"alpha\": [0.25,0.5,1.2, 0, 2]\n",
    "}\n",
    "\n",
    "grid_search = GridSearchCV(MultinomialNB(), param_grid, cv=3, verbose=2, n_jobs=-1)\n",
    "grid_search.fit(X_train, y_train['Emotion'])\n",
    "\n",
    "# best parameter after tuning \n",
    "print(grid_search.best_params_) \n",
    "y_pred = grid_search.predict(X_test) \n",
    "   \n",
    "# Classification report for 2.4\n",
    "description=\"Better Multinomial Naive Bayes for emotion classification with hyperparameters tunned by grid search:\"+grid.best_params_\n",
    "builder.write(description)\n",
    "clf_report=classification_report(y_test['Emotion'], y_pred,labels=np.unique(y_pred),output_dict=True)\n",
    "smap=sns.heatmap(pd.DataFrame(clf_report).iloc[:-1, :].T, annot=True)\n",
    "fig = smap.get_figure()\n",
    "fig.savefig(\"report.png\")\n",
    "builder.write(\"Classification Report: \\n\")\n",
    "builder.insert_image(\"report.png\")\n",
    "builder.write(\"\\n\")\n",
    "builder.write(\"Confusion Matrix \\n\")\n",
    "cf_matrix=confusion_matrix(y_test['Emotion'], y_pred)\n",
    "fig, ax = plt.subplots(figsize=(20,20))    \n",
    "cmap=sns.heatmap(cf_matrix, annot=True,fmt='g', ax=ax)\n",
    "axis=pd.crosstab(y_test['Emotion'], y_pred, rownames=['True'], colnames=['Predicted'], margins=True)\n",
    "axis=list(axis.index)[:-1]\n",
    "ax.set_xlabel('Predicted labels');\n",
    "ax.set_ylabel('True labels'); \n",
    "ax.tick_params(axis='both', which='major', labelsize=8)\n",
    "ax.xaxis.set_ticklabels(axis);\n",
    "ax.yaxis.set_ticklabels(axis)\n",
    "fig = cmap.get_figure()\n",
    "fig.savefig(\"cmatrix.png\")\n",
    "builder.insert_image(\"cmatrix.png\")\n",
    "    \n",
    "    \n",
    "    \n",
    "\n"
   ]
  },
  {
   "cell_type": "code",
   "execution_count": null,
   "id": "S1hMcqlJHC-V",
   "metadata": {
    "id": "S1hMcqlJHC-V"
   },
   "outputs": [],
   "source": [
    "# Sentiment\n",
    "nb_emotion = MultinomialNB()\n",
    "\n",
    "\n",
    "param_grid = {\n",
    "    \"alpha\": [0.25,0.5,1.2, 0, 2]\n",
    "}\n",
    "\n",
    "grid_search = GridSearchCV(MultinomialNB(), param_grid, cv=3, verbose=2, n_jobs=-1)\n",
    "grid_search.fit(X_train, y_train['Sentiment'])\n",
    "\n",
    "# best parameter after tuning \n",
    "print(grid_search.best_params_) \n",
    "y_pred = grid_search.predict(X_test) \n",
    "   \n",
    "# Classification report for 2.4\n",
    "description=\"Better Multinomial Naive Bayes for sentiment classification with hyperparameters tunned by grid search:\"+grid.best_params_\n",
    "builder.write(description)\n",
    "clf_report=classification_report(y_test['Sentiment'], y_pred,labels=np.unique(y_pred),output_dict=True)\n",
    "smap=sns.heatmap(pd.DataFrame(clf_report).iloc[:-1, :].T, annot=True)\n",
    "fig = smap.get_figure()\n",
    "fig.savefig(\"report.png\")\n",
    "builder.write(\"Classification Report: \\n\")\n",
    "builder.insert_image(\"report.png\")\n",
    "builder.write(\"\\n\")\n",
    "builder.write(\"Confusion Matrix \\n\")\n",
    "cf_matrix=confusion_matrix(y_test['Sentiment'], y_pred)\n",
    "fig, ax = plt.subplots(figsize=(20,20))    \n",
    "cmap=sns.heatmap(cf_matrix, annot=True,fmt='g', ax=ax)\n",
    "axis=pd.crosstab(y_test['Emotion'], y_pred, rownames=['True'], colnames=['Predicted'], margins=True)\n",
    "axis=list(axis.index)[:-1]\n",
    "ax.set_xlabel('Predicted labels');\n",
    "ax.set_ylabel('True labels'); \n",
    "ax.tick_params(axis='both', which='major', labelsize=8)\n",
    "ax.xaxis.set_ticklabels(axis);\n",
    "ax.yaxis.set_ticklabels(axis)\n",
    "fig = cmap.get_figure()\n",
    "fig.savefig(\"cmatrix.png\")\n",
    "builder.insert_image(\"cmatrix.png\")\n"
   ]
  },
  {
   "cell_type": "markdown",
   "id": "NUKnTGI1HC-W",
   "metadata": {
    "id": "NUKnTGI1HC-W"
   },
   "source": [
    "###### 2.5.5 **Better** Decision Tree with tf-idf"
   ]
  },
  {
   "cell_type": "code",
   "execution_count": null,
   "id": "7IBGSxgmHC-W",
   "metadata": {
    "id": "7IBGSxgmHC-W"
   },
   "outputs": [],
   "source": [
    "# Emotion\n",
    "param_grid = {\n",
    "    \"criterion\":[\"gini\",\"entropy\"],\n",
    "    \"max_depth\":[700, 1000],\n",
    "    \"min_samples_split\":[0.1,0.50,0.70]\n",
    "}\n",
    "\n",
    "grid_search = GridSearchCV(DecisionTreeClassifier(), param_grid, cv=3, verbose=2, n_jobs=-1)\n",
    "print(grid_search.get_params().keys())\n",
    "grid_search.fit(X_train, y_train['Emotion'])\n",
    "\n",
    "# best parameter after tuning \n",
    "print(grid_search.best_params_) \n",
    "y_pred = grid_search.predict(X_test) \n",
    "   \n",
    "# Classification report for 2.4\n",
    "description=\"Better Desicion Tree for emotion classification with hyperparameters tunned by grid search:\"+grid.best_params_\n",
    "builder.write(description)\n",
    "clf_report=classification_report(y_test['Emotion'], y_pred,labels=np.unique(y_pred),output_dict=True)\n",
    "smap=sns.heatmap(pd.DataFrame(clf_report).iloc[:-1, :].T, annot=True)\n",
    "fig = smap.get_figure()\n",
    "fig.savefig(\"report.png\")\n",
    "builder.write(\"Classification Report: \\n\")\n",
    "builder.insert_image(\"report.png\")\n",
    "builder.write(\"\\n\")\n",
    "builder.write(\"Confusion Matrix \\n\")\n",
    "cf_matrix=confusion_matrix(y_test['Emotion'], y_pred)\n",
    "fig, ax = plt.subplots(figsize=(20,20))    \n",
    "cmap=sns.heatmap(cf_matrix, annot=True,fmt='g', ax=ax)\n",
    "axis=pd.crosstab(y_test['Emotion'], y_pred, rownames=['True'], colnames=['Predicted'], margins=True)\n",
    "axis=list(axis.index)[:-1]\n",
    "ax.set_xlabel('Predicted labels');\n",
    "ax.set_ylabel('True labels'); \n",
    "ax.tick_params(axis='both', which='major', labelsize=8)\n",
    "ax.xaxis.set_ticklabels(axis);\n",
    "ax.yaxis.set_ticklabels(axis)\n",
    "fig = cmap.get_figure()\n",
    "fig.savefig(\"cmatrix.png\")\n",
    "builder.insert_image(\"cmatrix.png\")\n"
   ]
  },
  {
   "cell_type": "code",
   "execution_count": null,
   "id": "gsSMNHgbHC-W",
   "metadata": {
    "id": "gsSMNHgbHC-W"
   },
   "outputs": [],
   "source": [
    "# Sentiment\n",
    "param_grid = {\n",
    "    \"criterion\":[\"gini\",\"entropy\"],\n",
    "    \"max_depth\":[700, 1000],\n",
    "    \"min_samples_split\":[0.1,0.50,0.70]\n",
    "}\n",
    "\n",
    "grid_search = GridSearchCV(DecisionTreeClassifier(), param_grid, cv=3, verbose=2, n_jobs=-1)\n",
    "print(grid_search.get_params().keys())\n",
    "grid_search.fit(X_train, y_train['Sentiment'])\n",
    "\n",
    "# best parameter after tuning \n",
    "print(grid_search.best_params_) \n",
    "y_pred = grid_search.predict(X_test) \n",
    "   \n",
    "# Classification report for 2.4\n",
    "description=\"Better Multinomial Naive Bayes for emotion classification with hyperparameters tunned by grid search:\"+grid.best_params_\n",
    "builder.write(description)\n",
    "clf_report=classification_report(y_test['Sentiment'], y_pred,labels=np.unique(y_pred),output_dict=True)\n",
    "smap=sns.heatmap(pd.DataFrame(clf_report).iloc[:-1, :].T, annot=True)\n",
    "fig = smap.get_figure()\n",
    "fig.savefig(\"report.png\")\n",
    "builder.write(\"Classification Report: \\n\")\n",
    "builder.insert_image(\"report.png\")\n",
    "builder.write(\"\\n\")\n",
    "builder.write(\"Confusion Matrix \\n\")\n",
    "cf_matrix=confusion_matrix(y_test['Sentiment'], y_pred)\n",
    "fig, ax = plt.subplots(figsize=(20,20))    \n",
    "cmap=sns.heatmap(cf_matrix, annot=True,fmt='g', ax=ax)\n",
    "axis=pd.crosstab(y_test['Sentiment'], y_pred, rownames=['True'], colnames=['Predicted'], margins=True)\n",
    "axis=list(axis.index)[:-1]\n",
    "ax.set_xlabel('Predicted labels');\n",
    "ax.set_ylabel('True labels'); \n",
    "ax.tick_params(axis='both', which='major', labelsize=8)\n",
    "ax.xaxis.set_ticklabels(axis);\n",
    "ax.yaxis.set_ticklabels(axis)\n",
    "fig = cmap.get_figure()\n",
    "fig.savefig(\"cmatrix.png\")\n",
    "builder.insert_image(\"cmatrix.png\")\n",
    "\n"
   ]
  },
  {
   "cell_type": "markdown",
   "id": "kWWuZJU8HC-W",
   "metadata": {
    "id": "kWWuZJU8HC-W"
   },
   "source": [
    "###### 2.5.6 **Better** Multilayered Perceptron with tf-idf"
   ]
  },
  {
   "cell_type": "code",
   "execution_count": null,
   "id": "OHUDK36RHC-W",
   "metadata": {
    "id": "OHUDK36RHC-W"
   },
   "outputs": [],
   "source": [
    "# Emotion\n",
    "param_grid = {\n",
    "    \"activation\":['sigmoid', 'identity', 'tanh', 'relu'],\n",
    "    \"hidden_layer_sizes\":[(1,100), (2,30)],\n",
    "    \"solver\":['adam','sgd']\n",
    "}\n",
    "\n",
    "grid_search = GridSearchCV(MLPClassifier(), param_grid, cv=3, verbose=2, n_jobs=-1)\n",
    "print(grid_search.get_params().keys())\n",
    "grid_search.fit(X_train, y_train['Emotion'])\n",
    "\n",
    "# best parameter after tuning \n",
    "print(grid_search.best_params_) \n",
    "y_pred = grid_search.predict(X_test) \n",
    "   \n",
    "# Classification report for 2.4\n",
    "description=\"Better Multilayered Perceptron for emotion classification with hyperparameters tunned by grid search:\"+grid.best_params_\n",
    "builder.write(description)\n",
    "clf_report=classification_report(y_test['Emotion'], y_pred,labels=np.unique(y_pred),output_dict=True)\n",
    "smap=sns.heatmap(pd.DataFrame(clf_report).iloc[:-1, :].T, annot=True)\n",
    "fig = smap.get_figure()\n",
    "fig.savefig(\"report.png\")\n",
    "builder.write(\"Classification Report: \\n\")\n",
    "builder.insert_image(\"report.png\")\n",
    "builder.write(\"\\n\")\n",
    "builder.write(\"Confusion Matrix \\n\")\n",
    "cf_matrix=confusion_matrix(y_test['Emotion'], y_pred)\n",
    "fig, ax = plt.subplots(figsize=(20,20))    \n",
    "cmap=sns.heatmap(cf_matrix, annot=True,fmt='g', ax=ax)\n",
    "axis=pd.crosstab(y_test['Emotion'], y_pred, rownames=['True'], colnames=['Predicted'], margins=True)\n",
    "axis=list(axis.index)[:-1]\n",
    "ax.set_xlabel('Predicted labels');\n",
    "ax.set_ylabel('True labels'); \n",
    "ax.tick_params(axis='both', which='major', labelsize=8)\n",
    "ax.xaxis.set_ticklabels(axis);\n",
    "ax.yaxis.set_ticklabels(axis)\n",
    "fig = cmap.get_figure()\n",
    "fig.savefig(\"cmatrix.png\")\n",
    "builder.insert_image(\"cmatrix.png\")\n",
    "\n"
   ]
  },
  {
   "cell_type": "code",
   "execution_count": null,
   "id": "QMHZLQV6HC-X",
   "metadata": {
    "id": "QMHZLQV6HC-X"
   },
   "outputs": [],
   "source": [
    "# Sentiment\n",
    "param_grid = {\n",
    "    \"activation\":['sigmoid', 'identity', 'tanh', 'relu'],\n",
    "    \"hidden_layer_sizes\":[(1,100), (2,30)],\n",
    "    \"solver\":['adam','sgd']\n",
    "}\n",
    "\n",
    "grid_search = GridSearchCV(MLPClassifier(), param_grid, cv=3, verbose=2, n_jobs=-1)\n",
    "print(grid_search.get_params().keys())\n",
    "grid_search.fit(X_train, y_train['Sentiment'])\n",
    "\n",
    "# best parameter after tuning \n",
    "print(grid_search.best_params_) \n",
    "y_pred = grid_search.predict(X_test) \n",
    "   \n",
    "# Classification report for 2.4\n",
    "description=\"Better Multilayered Perceptron for sentiment classification with hyperparameters tunned by grid search:\"+grid.best_params_\n",
    "builder.write(description)\n",
    "clf_report=classification_report(y_test['Sentiment'], y_pred,labels=np.unique(y_pred),output_dict=True)\n",
    "smap=sns.heatmap(pd.DataFrame(clf_report).iloc[:-1, :].T, annot=True)\n",
    "fig = smap.get_figure()\n",
    "fig.savefig(\"report.png\")\n",
    "builder.write(\"Classification Report: \\n\")\n",
    "builder.insert_image(\"report.png\")\n",
    "builder.write(\"\\n\")\n",
    "builder.write(\"Confusion Matrix \\n\")\n",
    "cf_matrix=confusion_matrix(y_test['Emotion'], y_pred)\n",
    "fig, ax = plt.subplots(figsize=(20,20))    \n",
    "cmap=sns.heatmap(cf_matrix, annot=True,fmt='g', ax=ax)\n",
    "axis=pd.crosstab(y_test['Sentiment'], y_pred, rownames=['True'], colnames=['Sentiment'], margins=True)\n",
    "axis=list(axis.index)[:-1]\n",
    "ax.set_xlabel('Predicted labels');\n",
    "ax.set_ylabel('True labels'); \n",
    "ax.tick_params(axis='both', which='major', labelsize=8)\n",
    "ax.xaxis.set_ticklabels(axis);\n",
    "ax.yaxis.set_ticklabels(axis)\n",
    "fig = cmap.get_figure()\n",
    "fig.savefig(\"cmatrix.png\")\n",
    "builder.insert_image(\"cmatrix.png\")\n",
    "\n"
   ]
  },
  {
   "cell_type": "code",
   "execution_count": null,
   "id": "y5dsJgG5HC-X",
   "metadata": {
    "id": "y5dsJgG5HC-X"
   },
   "outputs": [],
   "source": [
    "# save document\n",
    "doc.save(\"performance_tf-idf.docx\")"
   ]
  },
  {
   "cell_type": "markdown",
   "id": "VlC-lRWuaBY2",
   "metadata": {
    "id": "VlC-lRWuaBY2"
   },
   "source": [
    "## 3.Embeding as features"
   ]
  },
  {
   "cell_type": "markdown",
   "id": "0ImY8Gqjz7L_",
   "metadata": {
    "id": "0ImY8Gqjz7L_"
   },
   "source": [
    "#### 3.1 Load pretrained model"
   ]
  },
  {
   "cell_type": "code",
   "execution_count": null,
   "id": "x5se-LuZmnVB",
   "metadata": {
    "id": "x5se-LuZmnVB"
   },
   "outputs": [],
   "source": [
    "#importing the model\n",
    "model = KeyedVectors.load_word2vec_format('drive/MyDrive/Colab Notebooks/Artifical Intelligence/GoogleNews-vectors-negative300.bin', binary=True)"
   ]
  },
  {
   "cell_type": "markdown",
   "id": "Ia-5oY9y0G-H",
   "metadata": {
    "id": "Ia-5oY9y0G-H"
   },
   "source": [
    "#### 3.2 Tokenize the post"
   ]
  },
  {
   "cell_type": "code",
   "execution_count": null,
   "id": "ahe2_7d3HC-Y",
   "metadata": {
    "id": "ahe2_7d3HC-Y"
   },
   "outputs": [],
   "source": [
    "nltk.download('punkt')\n",
    "X_train, X_test, y_train, y_test = train_test_split(df['Text'], df[['Sentiment','Emotion']], test_size=0.20)\n",
    "X_train_tokenized=X_train.apply(word_tokenize)\n",
    "X_test_tokenized=X_test.apply(word_tokenize)\n"
   ]
  },
  {
   "cell_type": "code",
   "execution_count": null,
   "id": "JXilFdK1qI-N",
   "metadata": {
    "id": "JXilFdK1qI-N"
   },
   "outputs": [],
   "source": [
    "tokens=set()\n",
    "X_train_tokenized.apply(lambda x: tokens.update(x))\n",
    "print('The total number of unique tokens is:', len(tokens))"
   ]
  },
  {
   "cell_type": "markdown",
   "id": "64tP2B4C0OiY",
   "metadata": {
    "id": "64tP2B4C0OiY"
   },
   "source": [
    "#### 3.3 Compute the embedding of the post"
   ]
  },
  {
   "cell_type": "code",
   "execution_count": null,
   "id": "FVd5gBYDwXTC",
   "metadata": {
    "id": "FVd5gBYDwXTC"
   },
   "outputs": [],
   "source": [
    "def embed(df):\n",
    "    embeddings=[]\n",
    "    not_found=0\n",
    "    for post in df:\n",
    "        current=np.zeros(300)\n",
    "        num_words=0\n",
    "        for word in post :\n",
    "            if word in model:\n",
    "                num_words+=1\n",
    "                current+=model[word]\n",
    "        if num_words!=0:\n",
    "            current=current/num_words\n",
    "        else:\n",
    "            not_found+=1\n",
    "        embeddings.append(current)\n",
    "    return embeddings,not_found"
   ]
  },
  {
   "cell_type": "code",
   "execution_count": null,
   "id": "KQy-ustYfYEU",
   "metadata": {
    "id": "KQy-ustYfYEU"
   },
   "outputs": [],
   "source": [
    "X_train_embeded, rate1= embed(X_train_tokenized)\n",
    "X_test_embeded, rate2= embed(X_test_tokenized)\n"
   ]
  },
  {
   "cell_type": "markdown",
   "id": "fo0p3Edw0xkr",
   "metadata": {
    "id": "fo0p3Edw0xkr"
   },
   "source": [
    "#### 3.4 Overall hit rates"
   ]
  },
  {
   "cell_type": "code",
   "execution_count": null,
   "id": "2ffJEeC9wR-l",
   "metadata": {
    "id": "2ffJEeC9wR-l"
   },
   "outputs": [],
   "source": [
    "print(\"The percentage of positevely getting an non null embedding in the train set is\", (len(X_train_tokenized)-rate1)/len(X_train_tokenized))\n",
    "print(\"The percentage of positevely getting an non null embedding in the test set is\", (len(X_train_tokenized)-rate2)/len(X_train_tokenized))"
   ]
  },
  {
   "cell_type": "markdown",
   "id": "GzGPv5fF010c",
   "metadata": {
    "id": "GzGPv5fF010c"
   },
   "source": [
    "#### 3.5 Base Multi-Layered perceptron"
   ]
  },
  {
   "cell_type": "code",
   "execution_count": null,
   "id": "euxu7NyyEM82",
   "metadata": {
    "id": "euxu7NyyEM82"
   },
   "outputs": [],
   "source": [
    "# Emotion\n",
    "mlp_emotion = MLPClassifier()\n",
    "mlp_emotion= mlp_emotion.fit(X_train_embeded, y_train['Emotion'])\n",
    "y_pred=mlp_emotion.predict(X_test_embeded)\n",
    "clf_report=classification_report(y_test['Emotion'], y_pred,labels=np.unique(y_pred),output_dict=True)\n",
    "smap=sns.heatmap(pd.DataFrame(clf_report).iloc[:-1, :].T, annot=True)\n",
    "\n",
    "# Classification report \n",
    "description=\"Multi-Layered perceptron classificator using the GoogleNews-vectors-negative300 pretrained model for Emotion classification with default hyperparameters: one hidden layer with 100 neurons, activation= 'relu',solver='adam', alpha(regularization)=0.0001... \\n\"\n",
    "builder.write(description)\n",
    "clf_report=classification_report(y_test['Emotion'], y_pred,labels=np.unique(y_pred),output_dict=True)\n",
    "smap=sns.heatmap(pd.DataFrame(clf_report).iloc[:-1, :].T, annot=True)\n",
    "fig = smap.get_figure()\n",
    "fig.savefig(\"report.png\")\n",
    "builder.write(\"Classification Report: \\n\")\n",
    "builder.insert_image(\"report.png\")\n",
    "builder.write(\"\\n\")\n",
    "builder.write(\"Confusion Matrix \\n\")\n",
    "cf_matrix=confusion_matrix(y_test['Emotion'], y_pred)\n",
    "fig, ax = plt.subplots(figsize=(20,20))    \n",
    "cmap=sns.heatmap(cf_matrix, annot=True,fmt='g', ax=ax)\n",
    "axis=pd.crosstab(y_test['Emotion'], y_pred, rownames=['True'], colnames=['Predicted'], margins=True)\n",
    "axis=list(axis.index)[:-1]\n",
    "ax.set_xlabel('Predicted labels');\n",
    "ax.set_ylabel('True labels'); \n",
    "ax.tick_params(axis='both', which='major', labelsize=8)\n",
    "ax.xaxis.set_ticklabels(axis);\n",
    "ax.yaxis.set_ticklabels(axis)\n",
    "fig = cmap.get_figure()\n",
    "fig.savefig(\"cmatrix.png\")\n",
    "builder.insert_image(\"cmatrix.png\")"
   ]
  },
  {
   "cell_type": "code",
   "execution_count": null,
   "id": "O4ZC2vCVCpqo",
   "metadata": {
    "id": "O4ZC2vCVCpqo"
   },
   "outputs": [],
   "source": [
    "# Sentiment\n",
    "mlp_emotion = MLPClassifier()\n",
    "mlp_emotion= mlp_emotion.fit(X_train_embeded, y_train['Sentiment'])\n",
    "y_pred=mlp_emotion.predict(X_test_embeded)\n",
    "clf_report=classification_report(y_test['Sentiment'], y_pred,labels=np.unique(y_pred),output_dict=True)\n",
    "smap=sns.heatmap(pd.DataFrame(clf_report).iloc[:-1, :].T, annot=True)\n",
    "\n",
    "# Classification report \n",
    "description=\"Multi-Layered perceptron classificator using the GoogleNews-vectors-negative300 pretrained model for Sentiment classfication with default hyperparameters: one hidden layer with 100 neurons, activation= 'relu',solver='adam', alpha(regularization)=0.0001... \\n\"\n",
    "builder.write(description)\n",
    "clf_report=classification_report(y_test['Sentiment'], y_pred,labels=np.unique(y_pred),output_dict=True)\n",
    "smap=sns.heatmap(pd.DataFrame(clf_report).iloc[:-1, :].T, annot=True)\n",
    "fig = smap.get_figure()\n",
    "fig.savefig(\"report.png\")\n",
    "builder.write(\"Classification Report: \\n\")\n",
    "builder.insert_image(\"report.png\")\n",
    "builder.write(\"\\n\")\n",
    "builder.write(\"Confusion Matrix \\n\")\n",
    "cf_matrix=confusion_matrix(y_test['Sentiment'], y_pred)\n",
    "fig, ax = plt.subplots(figsize=(20,20))    \n",
    "cmap=sns.heatmap(cf_matrix, annot=True,fmt='g', ax=ax)\n",
    "axis=pd.crosstab(y_test['Sentiment'], y_pred, rownames=['True'], colnames=['Predicted'], margins=True)\n",
    "axis=list(axis.index)[:-1]\n",
    "ax.set_xlabel('Predicted labels');\n",
    "ax.set_ylabel('True labels'); \n",
    "ax.tick_params(axis='both', which='major', labelsize=8)\n",
    "ax.xaxis.set_ticklabels(axis);\n",
    "ax.yaxis.set_ticklabels(axis)\n",
    "fig = cmap.get_figure()\n",
    "fig.savefig(\"cmatrix.png\")\n",
    "builder.insert_image(\"cmatrix.png\")"
   ]
  },
  {
   "cell_type": "markdown",
   "id": "URF45aDvFTXT",
   "metadata": {
    "id": "URF45aDvFTXT"
   },
   "source": [
    "#### 3.5 Better Multi-Layered perceptron"
   ]
  },
  {
   "cell_type": "code",
   "execution_count": null,
   "id": "XRtUb-TCFPMs",
   "metadata": {
    "id": "XRtUb-TCFPMs"
   },
   "outputs": [],
   "source": [
    "# Emotion\n",
    "param_grid = {\n",
    "    \"activation\":['sigmoid', 'identity', 'tanh', 'relu'],\n",
    "    \"hidden_layer_sizes\":[(1,100), (2,30)],\n",
    "    \"solver\":['adam','sgd']\n",
    "}\n",
    "\n",
    "grid_search = GridSearchCV(MLPClassifier(), param_grid, cv=3, verbose=2, n_jobs=-1)\n",
    "print(grid_search.get_params().keys())\n",
    "grid_search.fit(X_train_embeded, y_train['Emotion'])\n",
    "\n",
    "# best parameter after tuning \n",
    "print(grid_search.best_params_) \n",
    "y_pred = grid_search.predict(X_test_embeded) \n",
    "   \n",
    "# Classification report for 2.4\n",
    "description=\"Better Multilayered Perceptron using the GoogleNews-vectors-negative300 pretrained model for emotion classification with hyperparameters tunned by grid search:\"+grid.best_params_\n",
    "builder.write(description)\n",
    "clf_report=classification_report(y_test['Emotion'], y_pred,labels=np.unique(y_pred),output_dict=True)\n",
    "smap=sns.heatmap(pd.DataFrame(clf_report).iloc[:-1, :].T, annot=True)\n",
    "fig = smap.get_figure()\n",
    "fig.savefig(\"report.png\")\n",
    "builder.write(\"Classification Report: \\n\")\n",
    "builder.insert_image(\"report.png\")\n",
    "builder.write(\"\\n\")\n",
    "builder.write(\"Confusion Matrix \\n\")\n",
    "cf_matrix=confusion_matrix(y_test['Emotion'], y_pred)\n",
    "fig, ax = plt.subplots(figsize=(20,20))    \n",
    "cmap=sns.heatmap(cf_matrix, annot=True,fmt='g', ax=ax)\n",
    "axis=pd.crosstab(y_test['Emotion'], y_pred, rownames=['True'], colnames=['Predicted'], margins=True)\n",
    "axis=list(axis.index)[:-1]\n",
    "ax.set_xlabel('Predicted labels');\n",
    "ax.set_ylabel('True labels'); \n",
    "ax.tick_params(axis='both', which='major', labelsize=8)\n",
    "ax.xaxis.set_ticklabels(axis);\n",
    "ax.yaxis.set_ticklabels(axis)\n",
    "fig = cmap.get_figure()\n",
    "fig.savefig(\"cmatrix.png\")\n",
    "builder.insert_image(\"cmatrix.png\")\n",
    "\n"
   ]
  },
  {
   "cell_type": "code",
   "execution_count": null,
   "id": "WeVRcMfCFP3e",
   "metadata": {
    "id": "WeVRcMfCFP3e"
   },
   "outputs": [],
   "source": [
    "# Emotion\n",
    "param_grid = {\n",
    "    \"activation\":['sigmoid', 'identity', 'tanh', 'relu'],\n",
    "    \"hidden_layer_sizes\":[(1,100), (2,30)],\n",
    "    \"solver\":['adam','sgd']\n",
    "}\n",
    "\n",
    "grid_search = GridSearchCV(MLPClassifier(), param_grid, cv=3, verbose=2, n_jobs=-1)\n",
    "print(grid_search.get_params().keys())\n",
    "grid_search.fit(X_train_embeded, y_train['Sentiment'])\n",
    "\n",
    "# best parameter after tuning \n",
    "print(grid_search.best_params_) \n",
    "y_pred = grid_search.predict(X_test_embeded) \n",
    "   \n",
    "# Classification report for 2.4\n",
    "description=\"Better Multilayered Perceptron using the GoogleNews-vectors-negative300 pretrained model for emotion classification with hyperparameters tunned by grid search:\"+grid_search.best_params_\n",
    "builder.write(description)\n",
    "clf_report=classification_report(y_test['Sentiment'], y_pred,labels=np.unique(y_pred),output_dict=True)\n",
    "smap=sns.heatmap(pd.DataFrame(clf_report).iloc[:-1, :].T, annot=True)\n",
    "fig = smap.get_figure()\n",
    "fig.savefig(\"report.png\")\n",
    "builder.write(\"Classification Report: \\n\")\n",
    "builder.insert_image(\"report.png\")\n",
    "builder.write(\"\\n\")\n",
    "builder.write(\"Confusion Matrix \\n\")\n",
    "cf_matrix=confusion_matrix(y_test['Emotion'], y_pred)\n",
    "fig, ax = plt.subplots(figsize=(20,20))\n",
    "cmap=sns.heatmap(cf_matrix, annot=True,fmt='g', ax=ax)\n",
    "axis=pd.crosstab(y_test['Emotion'], y_pred, rownames=['True'], colnames=['Predicted'], margins=True)\n",
    "axis=list(axis.index)[:-1]\n",
    "ax.set_xlabel('Predicted labels');\n",
    "ax.set_ylabel('True labels'); \n",
    "ax.tick_params(axis='both', which='major', labelsize=8)\n",
    "ax.xaxis.set_ticklabels(axis);\n",
    "ax.yaxis.set_ticklabels(axis)\n",
    "fig = cmap.get_figure()\n",
    "fig.savefig(\"cmatrix.png\")\n",
    "builder.insert_image(\"cmatrix.png\")\n",
    "\n"
   ]
  },
  {
   "cell_type": "code",
   "execution_count": null,
   "id": "9C9j9STnFwuu",
   "metadata": {
    "id": "9C9j9STnFwuu"
   },
   "outputs": [],
   "source": [
    "doc.save(\"performance.docx\")"
   ]
  }
 ],
 "metadata": {
  "colab": {
   "collapsed_sections": [],
   "provenance": []
  },
  "kernelspec": {
   "display_name": "Python 3",
   "language": "python",
   "name": "python3"
  },
  "language_info": {
   "codemirror_mode": {
    "name": "ipython",
    "version": 3
   },
   "file_extension": ".py",
   "mimetype": "text/x-python",
   "name": "python",
   "nbconvert_exporter": "python",
   "pygments_lexer": "ipython3",
   "version": "3.8.8"
  }
 },
 "nbformat": 4,
 "nbformat_minor": 5
}
