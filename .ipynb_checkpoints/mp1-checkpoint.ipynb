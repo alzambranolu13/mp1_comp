{
 "cells": [
  {
   "cell_type": "markdown",
   "id": "06c0ab74",
   "metadata": {
    "id": "06c0ab74"
   },
   "source": [
    "# Mini Project 1"
   ]
  },
  {
   "cell_type": "code",
   "execution_count": 4,
   "id": "fa46d4a1",
   "metadata": {
    "id": "fa46d4a1"
   },
   "outputs": [],
   "source": [
    "#necessary imports\n",
    "import numpy as np\n",
    "import pandas as pd\n",
    "import matplotlib\n",
    "import matplotlib.pyplot as plt\n",
    "from sklearn.feature_extraction.text import CountVectorizer\n",
    "from sklearn.model_selection import train_test_split\n",
    "from sklearn.naive_bayes import MultinomialNB\n",
    "from sklearn.tree import DecisionTreeClassifier\n",
    "from sklearn.neural_network import MLPClassifier\n",
    "from sklearn.datasets import make_classification\n",
    "from sklearn.model_selection import GridSearchCV\n",
    "from sklearn.model_selection import cross_val_score\n",
    "from sklearn.metrics import accuracy_score\n",
    "from sklearn.metrics import precision_score\n",
    "from sklearn.metrics import recall_score\n",
    "from sklearn.metrics import f1_score"
   ]
  },
  {
   "cell_type": "markdown",
   "id": "51568646",
   "metadata": {
    "id": "51568646"
   },
   "source": [
    "## 1. Dataset Preparation & Analysis"
   ]
  },
  {
   "cell_type": "markdown",
   "id": "0c4b2d25",
   "metadata": {
    "id": "0c4b2d25"
   },
   "source": [
    "First its necessary to import our data"
   ]
  },
  {
   "cell_type": "code",
   "execution_count": 5,
   "id": "ae945e84",
   "metadata": {
    "colab": {
     "base_uri": "https://localhost:8080/",
     "height": 424
    },
    "executionInfo": {
     "elapsed": 374,
     "status": "ok",
     "timestamp": 1664901000088,
     "user": {
      "displayName": "Alejandra Zambrano Luna",
      "userId": "09394580318721700537"
     },
     "user_tz": 240
    },
    "id": "ae945e84",
    "outputId": "bf27b3b6-5ab4-45ce-d066-5ae93229444e"
   },
   "outputs": [
    {
     "data": {
      "text/html": [
       "<div>\n",
       "<style scoped>\n",
       "    .dataframe tbody tr th:only-of-type {\n",
       "        vertical-align: middle;\n",
       "    }\n",
       "\n",
       "    .dataframe tbody tr th {\n",
       "        vertical-align: top;\n",
       "    }\n",
       "\n",
       "    .dataframe thead th {\n",
       "        text-align: right;\n",
       "    }\n",
       "</style>\n",
       "<table border=\"1\" class=\"dataframe\">\n",
       "  <thead>\n",
       "    <tr style=\"text-align: right;\">\n",
       "      <th></th>\n",
       "      <th>Text</th>\n",
       "      <th>Emotion</th>\n",
       "      <th>Sentiment</th>\n",
       "    </tr>\n",
       "  </thead>\n",
       "  <tbody>\n",
       "    <tr>\n",
       "      <th>0</th>\n",
       "      <td>That game hurt.</td>\n",
       "      <td>sadness</td>\n",
       "      <td>negative</td>\n",
       "    </tr>\n",
       "    <tr>\n",
       "      <th>1</th>\n",
       "      <td>You do right, if you don't care then fuck 'em!</td>\n",
       "      <td>neutral</td>\n",
       "      <td>neutral</td>\n",
       "    </tr>\n",
       "    <tr>\n",
       "      <th>2</th>\n",
       "      <td>Man I love reddit.</td>\n",
       "      <td>love</td>\n",
       "      <td>positive</td>\n",
       "    </tr>\n",
       "    <tr>\n",
       "      <th>3</th>\n",
       "      <td>[NAME] was nowhere near them, he was by the Fa...</td>\n",
       "      <td>neutral</td>\n",
       "      <td>neutral</td>\n",
       "    </tr>\n",
       "    <tr>\n",
       "      <th>4</th>\n",
       "      <td>Right? Considering it’s such an important docu...</td>\n",
       "      <td>gratitude</td>\n",
       "      <td>positive</td>\n",
       "    </tr>\n",
       "    <tr>\n",
       "      <th>...</th>\n",
       "      <td>...</td>\n",
       "      <td>...</td>\n",
       "      <td>...</td>\n",
       "    </tr>\n",
       "    <tr>\n",
       "      <th>171815</th>\n",
       "      <td>Well, I'm glad you're out of all that now. How...</td>\n",
       "      <td>joy</td>\n",
       "      <td>positive</td>\n",
       "    </tr>\n",
       "    <tr>\n",
       "      <th>171816</th>\n",
       "      <td>Everyone likes [NAME].</td>\n",
       "      <td>love</td>\n",
       "      <td>positive</td>\n",
       "    </tr>\n",
       "    <tr>\n",
       "      <th>171817</th>\n",
       "      <td>Well when you’ve imported about a gazillion of...</td>\n",
       "      <td>caring</td>\n",
       "      <td>positive</td>\n",
       "    </tr>\n",
       "    <tr>\n",
       "      <th>171818</th>\n",
       "      <td>That looks amazing</td>\n",
       "      <td>admiration</td>\n",
       "      <td>positive</td>\n",
       "    </tr>\n",
       "    <tr>\n",
       "      <th>171819</th>\n",
       "      <td>The FDA has plenty to criticize. But like here...</td>\n",
       "      <td>anger</td>\n",
       "      <td>negative</td>\n",
       "    </tr>\n",
       "  </tbody>\n",
       "</table>\n",
       "<p>171820 rows × 3 columns</p>\n",
       "</div>"
      ],
      "text/plain": [
       "                                                     Text     Emotion  \\\n",
       "0                                         That game hurt.     sadness   \n",
       "1          You do right, if you don't care then fuck 'em!     neutral   \n",
       "2                                      Man I love reddit.        love   \n",
       "3       [NAME] was nowhere near them, he was by the Fa...     neutral   \n",
       "4       Right? Considering it’s such an important docu...   gratitude   \n",
       "...                                                   ...         ...   \n",
       "171815  Well, I'm glad you're out of all that now. How...         joy   \n",
       "171816                             Everyone likes [NAME].        love   \n",
       "171817  Well when you’ve imported about a gazillion of...      caring   \n",
       "171818                                 That looks amazing  admiration   \n",
       "171819  The FDA has plenty to criticize. But like here...       anger   \n",
       "\n",
       "       Sentiment  \n",
       "0       negative  \n",
       "1        neutral  \n",
       "2       positive  \n",
       "3        neutral  \n",
       "4       positive  \n",
       "...          ...  \n",
       "171815  positive  \n",
       "171816  positive  \n",
       "171817  positive  \n",
       "171818  positive  \n",
       "171819  negative  \n",
       "\n",
       "[171820 rows x 3 columns]"
      ]
     },
     "execution_count": 5,
     "metadata": {},
     "output_type": "execute_result"
    }
   ],
   "source": [
    "df=pd.read_json(\"goemotions.json\")\n",
    "df= df.rename(columns={0: \"Text\", 1:\"Emotion\",2:\"Sentiment\"})\n",
    "df"
   ]
  },
  {
   "cell_type": "markdown",
   "id": "ed1c0bc9",
   "metadata": {
    "id": "ed1c0bc9"
   },
   "source": [
    "#### 1.3 \n",
    "\"Extract the posts and the 2 sets of labels (emotion and sentiment), then plot the distribution\n",
    "of the posts in each category and save the graphic (a histogram or pie chart) in pdf. Do this for both\n",
    "the emotion and the sentiment categories\""
   ]
  },
  {
   "cell_type": "code",
   "execution_count": 6,
   "id": "e0b27410",
   "metadata": {
    "colab": {
     "base_uri": "https://localhost:8080/",
     "height": 909
    },
    "executionInfo": {
     "elapsed": 1280,
     "status": "ok",
     "timestamp": 1664901003456,
     "user": {
      "displayName": "Alejandra Zambrano Luna",
      "userId": "09394580318721700537"
     },
     "user_tz": 240
    },
    "id": "e0b27410",
    "outputId": "e736e3f2-b455-40f7-90e5-1630f7dda225"
   },
   "outputs": [
    {
     "data": {
      "image/png": "[encoded data removed]",
      "text/plain": [
       "<Figure size 1080x1080 with 2 Axes>"
      ]
     },
     "metadata": {
      "needs_background": "light"
     },
     "output_type": "display_data"
    }
   ],
   "source": [
    "fig, ax = plt.subplots(2,1, figsize=(15,15))\n",
    "df['Emotion'].value_counts().plot(ax=ax[0], kind='bar')\n",
    "df['Sentiment'].value_counts().plot(ax=ax[1], kind='bar')\n",
    "\n",
    "fig.savefig(\"graphs.pdf\", bbox_inches='tight')"
   ]
  },
  {
   "cell_type": "markdown",
   "id": "2d25a674",
   "metadata": {
    "id": "2d25a674"
   },
   "source": [
    "## 2. Words as Features"
   ]
  },
  {
   "cell_type": "markdown",
   "id": "0e76c031",
   "metadata": {
    "id": "0e76c031"
   },
   "source": [
    "#### 2.1\n",
    "\"Process the dataset using feature extraction.text.CountVectorizer to extract tokens/words\n",
    "and their frequencies. Display the number of tokens (the size of the vocabulary) in the dataset.\""
   ]
  },
  {
   "cell_type": "code",
   "execution_count": 7,
   "id": "424fa24a",
   "metadata": {
    "colab": {
     "base_uri": "https://localhost:8080/"
    },
    "executionInfo": {
     "elapsed": 2137,
     "status": "ok",
     "timestamp": 1664902391710,
     "user": {
      "displayName": "Alejandra Zambrano Luna",
      "userId": "09394580318721700537"
     },
     "user_tz": 240
    },
    "id": "424fa24a",
    "outputId": "c66852be-5848-4687-f300-4b612b351ea1"
   },
   "outputs": [
    {
     "ename": "AttributeError",
     "evalue": "'CountVectorizer' object has no attribute 'get_feature_names_out'",
     "output_type": "error",
     "traceback": [
      "\u001b[1;31m---------------------------------------------------------------------------\u001b[0m",
      "\u001b[1;31mAttributeError\u001b[0m                            Traceback (most recent call last)",
      "\u001b[1;32m<ipython-input-7-6770e55f096e>\u001b[0m in \u001b[0;36m<module>\u001b[1;34m\u001b[0m\n\u001b[0;32m      2\u001b[0m \u001b[0mX\u001b[0m \u001b[1;33m=\u001b[0m \u001b[0mvectorizer\u001b[0m\u001b[1;33m.\u001b[0m\u001b[0mfit_transform\u001b[0m\u001b[1;33m(\u001b[0m\u001b[0mdf\u001b[0m\u001b[1;33m[\u001b[0m\u001b[1;34m'Text'\u001b[0m\u001b[1;33m]\u001b[0m\u001b[1;33m)\u001b[0m\u001b[1;33m\u001b[0m\u001b[1;33m\u001b[0m\u001b[0m\n\u001b[0;32m      3\u001b[0m \u001b[0my\u001b[0m\u001b[1;33m=\u001b[0m \u001b[0mdf\u001b[0m\u001b[1;33m[\u001b[0m\u001b[1;33m[\u001b[0m\u001b[1;34m'Sentiment'\u001b[0m\u001b[1;33m,\u001b[0m\u001b[1;34m'Emotion'\u001b[0m\u001b[1;33m]\u001b[0m\u001b[1;33m]\u001b[0m\u001b[1;33m\u001b[0m\u001b[1;33m\u001b[0m\u001b[0m\n\u001b[1;32m----> 4\u001b[1;33m \u001b[0mprint\u001b[0m\u001b[1;33m(\u001b[0m\u001b[1;34m\"The size of the vocabulary in this case is:\"\u001b[0m\u001b[1;33m,\u001b[0m \u001b[0mlen\u001b[0m\u001b[1;33m(\u001b[0m\u001b[0mvectorizer\u001b[0m\u001b[1;33m.\u001b[0m\u001b[0mget_feature_names_out\u001b[0m\u001b[1;33m(\u001b[0m\u001b[1;33m)\u001b[0m\u001b[1;33m)\u001b[0m\u001b[1;33m)\u001b[0m\u001b[1;33m\u001b[0m\u001b[1;33m\u001b[0m\u001b[0m\n\u001b[0m",
      "\u001b[1;31mAttributeError\u001b[0m: 'CountVectorizer' object has no attribute 'get_feature_names_out'"
     ]
    }
   ],
   "source": [
    "vectorizer = CountVectorizer(analyzer='word')\n",
    "X = vectorizer.fit_transform(df['Text'])\n",
    "y= df[['Sentiment','Emotion']]\n",
    "print(\"The size of the vocabulary in this case is:\", len(vectorizer.get_feature_names_out()))"
   ]
  },
  {
   "cell_type": "markdown",
   "id": "_O0tbhKZXEKd",
   "metadata": {
    "id": "_O0tbhKZXEKd"
   },
   "source": [
    "#### 2.2"
   ]
  },
  {
   "cell_type": "markdown",
   "id": "WdA_GbtOXT6u",
   "metadata": {
    "id": "WdA_GbtOXT6u"
   },
   "source": [
    "Split the dataset into 80% for training and 20% for testing"
   ]
  },
  {
   "cell_type": "code",
   "execution_count": null,
   "id": "5IHANdh0W_Zg",
   "metadata": {
    "id": "5IHANdh0W_Zg"
   },
   "outputs": [],
   "source": [
    "X_train, X_test, y_train, y_test = train_test_split(X, y, test_size=0.20)"
   ]
  },
  {
   "cell_type": "markdown",
   "id": "22vUads-Y2Rc",
   "metadata": {
    "id": "22vUads-Y2Rc"
   },
   "source": [
    "#### 2.3\n",
    "\n",
    "\"Train and test the following classifiers, for both the emotion and the sentiment classification, using word frequency as features.\""
   ]
  },
  {
   "cell_type": "markdown",
   "id": "nJmk9P1CetkX",
   "metadata": {
    "id": "nJmk9P1CetkX"
   },
   "source": [
    "###### 2.3.1 Multinomial Naive Bayes Classifier"
   ]
  },
  {
   "cell_type": "code",
   "execution_count": null,
   "id": "-YgkFIWjW_kB",
   "metadata": {
    "colab": {
     "base_uri": "https://localhost:8080/"
    },
    "executionInfo": {
     "elapsed": 2537,
     "status": "ok",
     "timestamp": 1664902399322,
     "user": {
      "displayName": "Alejandra Zambrano Luna",
      "userId": "09394580318721700537"
     },
     "user_tz": 240
    },
    "id": "-YgkFIWjW_kB",
    "outputId": "7927530b-9482-4278-842f-863820213f3c"
   },
   "outputs": [],
   "source": [
    "# Emotion\n",
    "nb_emotion = MultinomialNB()\n",
    "nb_emotion=nb_emotion.fit(X_train, y_train['Emotion'])\n",
    "y_pred=nb_emotion.predict(X_test)\n",
    "print(\"Accuracy:\",accuracy_score(y_test['Emotion'], y_pred))\n",
    "print(\"Precision:\",precision_score(y_test['Emotion'], y_pred,average='weighted',labels=np.unique(y_pred)))\n",
    "print(\"Recall:\",recall_score(y_test['Emotion'], y_pred,average='weighted',labels=np.unique(y_pred)))\n",
    "print(\"F1-score:\",f1_score(y_test['Emotion'], y_pred,average='weighted',labels=np.unique(y_pred)))"
   ]
  },
  {
   "cell_type": "code",
   "execution_count": null,
   "id": "k4XKVzrmbDz_",
   "metadata": {
    "colab": {
     "base_uri": "https://localhost:8080/"
    },
    "executionInfo": {
     "elapsed": 1979,
     "status": "ok",
     "timestamp": 1664902405725,
     "user": {
      "displayName": "Alejandra Zambrano Luna",
      "userId": "09394580318721700537"
     },
     "user_tz": 240
    },
    "id": "k4XKVzrmbDz_",
    "outputId": "bcab7e80-2580-4c88-cdc1-90256b536dce"
   },
   "outputs": [],
   "source": [
    "# Sentiment \n",
    "nb_sentiment = MultinomialNB()\n",
    "nb_sentiment = nb_sentiment.fit(X_train, y_train['Sentiment'])\n",
    "y_pred=nb_sentiment.predict(X_test)\n",
    "print(\"Accuracy:\",accuracy_score(y_test['Sentiment'], y_pred))\n",
    "print(\"Precision:\",precision_score(y_test['Sentiment'], y_pred,average='weighted',labels=np.unique(y_pred)))\n",
    "print(\"Recall:\",recall_score(y_test['Sentiment'], y_pred,average='weighted',labels=np.unique(y_pred)))\n",
    "print(\"F1-score:\",f1_score(y_test['Sentiment'], y_pred,average='weighted',labels=np.unique(y_pred)))"
   ]
  },
  {
   "cell_type": "markdown",
   "id": "PKBF8KG_gY-z",
   "metadata": {
    "id": "PKBF8KG_gY-z"
   },
   "source": [
    "###### 2.3.1 Decision Tree"
   ]
  },
  {
   "cell_type": "code",
   "execution_count": null,
   "id": "bu9G6tc9c3Ld",
   "metadata": {
    "colab": {
     "base_uri": "https://localhost:8080/"
    },
    "executionInfo": {
     "elapsed": 76835,
     "status": "ok",
     "timestamp": 1664912832712,
     "user": {
      "displayName": "Alejandra Zambrano Luna",
      "userId": "09394580318721700537"
     },
     "user_tz": 240
    },
    "id": "bu9G6tc9c3Ld",
    "outputId": "acf80087-68a5-4036-984d-eb90aae22282"
   },
   "outputs": [],
   "source": [
    "# Emotion\n",
    "dt_emotion = DecisionTreeClassifier()\n",
    "dt_emotion = dt_emotion.fit(X_train, y_train['Emotion'])\n",
    "y_pred=dt_emotion.predict(X_test)\n",
    "print(\"Accuracy:\",accuracy_score(y_test['Emotion'], y_pred))\n",
    "print(\"Precision:\",precision_score(y_test['Emotion'], y_pred,average='weighted',labels=np.unique(y_pred)))\n",
    "print(\"Recall:\",recall_score(y_test['Emotion'], y_pred,average='weighted',labels=np.unique(y_pred)))\n",
    "print(\"F1-score:\",f1_score(y_test['Emotion'], y_pred,average='weighted',labels=np.unique(y_pred)))"
   ]
  },
  {
   "cell_type": "code",
   "execution_count": null,
   "id": "dJtHZM9FogBF",
   "metadata": {
    "colab": {
     "base_uri": "https://localhost:8080/"
    },
    "executionInfo": {
     "elapsed": 149,
     "status": "ok",
     "timestamp": 1664914442204,
     "user": {
      "displayName": "Alejandra Zambrano Luna",
      "userId": "09394580318721700537"
     },
     "user_tz": 240
    },
    "id": "dJtHZM9FogBF",
    "outputId": "fd31dd68-7346-4888-9031-72f13e2f71aa"
   },
   "outputs": [],
   "source": [
    "#get depth to take into account later\n",
    "print(\"depth of tree\", dt_emotion.tree_.max_depth)"
   ]
  },
  {
   "cell_type": "code",
   "execution_count": null,
   "id": "vMW9pqWRgxd0",
   "metadata": {
    "colab": {
     "base_uri": "https://localhost:8080/"
    },
    "executionInfo": {
     "elapsed": 66198,
     "status": "ok",
     "timestamp": 1664912898892,
     "user": {
      "displayName": "Alejandra Zambrano Luna",
      "userId": "09394580318721700537"
     },
     "user_tz": 240
    },
    "id": "vMW9pqWRgxd0",
    "outputId": "94e01ca0-da9f-41b2-f724-a95c36236021"
   },
   "outputs": [],
   "source": [
    "# Sentiment\n",
    "dt_sentiment = DecisionTreeClassifier()\n",
    "dt_sentiment = dt_sentiment.fit(X_train, y_train['Sentiment'])\n",
    "y_pred=dt_sentiment.predict(X_test)\n",
    "print(\"depth of tree\", dt_sentiment.max_depth)\n",
    "print(\"Accuracy:\",accuracy_score(y_test['Sentiment'], y_pred))\n",
    "print(\"Precision:\",precision_score(y_test['Sentiment'], y_pred,average='weighted',labels=np.unique(y_pred)))\n",
    "print(\"Recall:\",recall_score(y_test['Sentiment'], y_pred,average='weighted',labels=np.unique(y_pred)))\n",
    "print(\"F1-score:\",f1_score(y_test['Sentiment'], y_pred,average='weighted',labels=np.unique(y_pred)))\n",
    "#takes a long time to run"
   ]
  },
  {
   "cell_type": "code",
   "execution_count": null,
   "id": "pYwOsoLool2F",
   "metadata": {
    "colab": {
     "base_uri": "https://localhost:8080/"
    },
    "executionInfo": {
     "elapsed": 166,
     "status": "ok",
     "timestamp": 1664914464850,
     "user": {
      "displayName": "Alejandra Zambrano Luna",
      "userId": "09394580318721700537"
     },
     "user_tz": 240
    },
    "id": "pYwOsoLool2F",
    "outputId": "b6040c1c-a255-4f8e-db5a-28a07878d00a"
   },
   "outputs": [],
   "source": [
    "#get depth to take into account later\n",
    "print(\"depth of tree\", dt_sentiment.tree_.max_depth)"
   ]
  },
  {
   "cell_type": "markdown",
   "id": "QOuwAaB3hAku",
   "metadata": {
    "id": "QOuwAaB3hAku"
   },
   "source": [
    "###### 2.3.1 Multi-Layered Perceptron"
   ]
  },
  {
   "cell_type": "code",
   "execution_count": null,
   "id": "dMvhJ7K6h0_9",
   "metadata": {
    "colab": {
     "base_uri": "https://localhost:8080/"
    },
    "executionInfo": {
     "elapsed": 5079759,
     "status": "ok",
     "timestamp": 1664907630568,
     "user": {
      "displayName": "Alejandra Zambrano Luna",
      "userId": "09394580318721700537"
     },
     "user_tz": 240
    },
    "id": "dMvhJ7K6h0_9",
    "outputId": "f7e8fca2-59d2-48eb-bd19-ea6e7ace7396"
   },
   "outputs": [],
   "source": [
    "# Emotion\n",
    "mlp_emotion = MLPClassifier()\n",
    "mlp_emotion= mlp_emotion.fit(X_train, y_train['Emotion'])\n",
    "y_pred=mlp_emotion.predict(X_test)\n",
    "print(\"Accuracy:\",accuracy_score(y_test['Emotion'], y_pred))\n",
    "print(\"Precision:\",precision_score(y_test['Emotion'], y_pred,average='weighted',labels=np.unique(y_pred)))\n",
    "print(\"Recall:\",recall_score(y_test['Emotion'], y_pred,average='weighted',labels=np.unique(y_pred)))\n",
    "print(\"F1-score:\",f1_score(y_test['Emotion'], y_pred,average='weighted',labels=np.unique(y_pred)))"
   ]
  },
  {
   "cell_type": "code",
   "execution_count": null,
   "id": "Vk-LveSmiEj9",
   "metadata": {
    "colab": {
     "base_uri": "https://localhost:8080/"
    },
    "executionInfo": {
     "elapsed": 5124258,
     "status": "ok",
     "timestamp": 1664912754819,
     "user": {
      "displayName": "Alejandra Zambrano Luna",
      "userId": "09394580318721700537"
     },
     "user_tz": 240
    },
    "id": "Vk-LveSmiEj9",
    "outputId": "98ad1444-ae27-4b45-8e1a-8fa104f4d2d2"
   },
   "outputs": [],
   "source": [
    "# Sentiment\n",
    "mlp_sentiment = MLPClassifier()\n",
    "mlp_sentiment= mlp_sentiment.fit(X_train, y_train['Sentiment'])\n",
    "y_pred=mlp_sentiment.predict(X_test)\n",
    "print(\"Accuracy:\",accuracy_score(y_test['Sentiment'], y_pred))\n",
    "print(\"Precision:\",precision_score(y_test['Sentiment'], y_pred,average='weighted',labels=np.unique(y_pred)))\n",
    "print(\"Recall:\",recall_score(y_test['Sentiment'], y_pred,average='weighted',labels=np.unique(y_pred)))\n",
    "print(\"F1-score:\",f1_score(y_test['Sentiment'], y_pred,average='weighted',labels=np.unique(y_pred)))"
   ]
  },
  {
   "cell_type": "markdown",
   "id": "cP6rN-MYiQUz",
   "metadata": {
    "id": "cP6rN-MYiQUz"
   },
   "source": [
    "###### 2.3.4 **Better** Multinomial Naive Bayes Classifier"
   ]
  },
  {
   "cell_type": "code",
   "execution_count": null,
   "id": "BK9VvVAFicqQ",
   "metadata": {
    "colab": {
     "base_uri": "https://localhost:8080/"
    },
    "executionInfo": {
     "elapsed": 8949,
     "status": "ok",
     "timestamp": 1664819851704,
     "user": {
      "displayName": "Alejandra Zambrano Luna",
      "userId": "09394580318721700537"
     },
     "user_tz": 240
    },
    "id": "BK9VvVAFicqQ",
    "outputId": "9f775469-1f06-4afb-cf41-fa6f31b0c015"
   },
   "outputs": [],
   "source": [
    "# Emotion\n",
    "nb_emotion = MultinomialNB()\n",
    "\n",
    "\n",
    "param_grid = {\n",
    "    \"alpha\": [0.25,0.5,1.2, 0, 2]\n",
    "}\n",
    "\n",
    "grid_search = GridSearchCV(MultinomialNB(), param_grid, cv=3, verbose=2, n_jobs=-1)\n",
    "grid_search.fit(X_train, y_train['Emotion'])\n",
    "grid_search.cv_results_\n"
   ]
  },
  {
   "cell_type": "code",
   "execution_count": null,
   "id": "rJnyfadbQx9G",
   "metadata": {
    "colab": {
     "base_uri": "https://localhost:8080/"
    },
    "executionInfo": {
     "elapsed": 7184,
     "status": "ok",
     "timestamp": 1664916401825,
     "user": {
      "displayName": "Alejandra Zambrano Luna",
      "userId": "09394580318721700537"
     },
     "user_tz": 240
    },
    "id": "rJnyfadbQx9G",
    "outputId": "966ffecc-b10a-44ae-cb25-a1ed7cf51277"
   },
   "outputs": [],
   "source": [
    "# Sentiment\n",
    "nb_emotion = MultinomialNB()\n",
    "\n",
    "\n",
    "param_grid = {\n",
    "    \"alpha\": [0.25,0.5,1.2, 0, 2]\n",
    "}\n",
    "\n",
    "grid_search = GridSearchCV(MultinomialNB(), param_grid, cv=3, verbose=2, n_jobs=-1)\n",
    "grid_search.fit(X_train, y_train['Sentiment'])\n",
    "grid_search.cv_results_\n"
   ]
  },
  {
   "cell_type": "markdown",
   "id": "kTE8o1mtQ-J4",
   "metadata": {
    "id": "kTE8o1mtQ-J4"
   },
   "source": [
    "###### 2.3.4 **Better** Decision Tree[link text](https://)"
   ]
  },
  {
   "cell_type": "code",
   "execution_count": null,
   "id": "8SWL1Qc2tYAr",
   "metadata": {
    "colab": {
     "base_uri": "https://localhost:8080/"
    },
    "executionInfo": {
     "elapsed": 4,
     "status": "ok",
     "timestamp": 1664915710111,
     "user": {
      "displayName": "Alejandra Zambrano Luna",
      "userId": "09394580318721700537"
     },
     "user_tz": 240
    },
    "id": "8SWL1Qc2tYAr",
    "outputId": "ae51b72d-0d70-4833-b36d-0a57f93bf8af"
   },
   "outputs": [],
   "source": [
    "min_samples_splits = np.linspace(0.1, 1.0, 10, endpoint=True)\n",
    "min_samples_splits"
   ]
  },
  {
   "cell_type": "code",
   "execution_count": null,
   "id": "RwHvi0wqRFZ2",
   "metadata": {
    "colab": {
     "base_uri": "https://localhost:8080/"
    },
    "executionInfo": {
     "elapsed": 70465,
     "status": "ok",
     "timestamp": 1664916056017,
     "user": {
      "displayName": "Alejandra Zambrano Luna",
      "userId": "09394580318721700537"
     },
     "user_tz": 240
    },
    "id": "RwHvi0wqRFZ2",
    "outputId": "eda4523f-8958-4708-e422-33d835cda27b"
   },
   "outputs": [],
   "source": [
    "# Emotion\n",
    "param_grid = {\n",
    "    \"criterion\":[\"gini\",\"entropy\"],\n",
    "    \"max_depth\":[700, 1000],\n",
    "    \"min_samples_split\":[0.1,0.50,0.70]\n",
    "}\n",
    "\n",
    "grid_search = GridSearchCV(DecisionTreeClassifier(), param_grid, cv=3, verbose=2, n_jobs=-1)\n",
    "print(grid_search.get_params().keys())\n",
    "grid_search.fit(X_train, y_train['Emotion'])\n",
    "grid_search.cv_results_\n"
   ]
  },
  {
   "cell_type": "code",
   "execution_count": null,
   "id": "EbC4ZhA5vtya",
   "metadata": {
    "colab": {
     "base_uri": "https://localhost:8080/"
    },
    "executionInfo": {
     "elapsed": 64544,
     "status": "ok",
     "timestamp": 1664916480185,
     "user": {
      "displayName": "Alejandra Zambrano Luna",
      "userId": "09394580318721700537"
     },
     "user_tz": 240
    },
    "id": "EbC4ZhA5vtya",
    "outputId": "56539a5b-64cb-45d3-d0af-86c54b3445c4"
   },
   "outputs": [],
   "source": [
    "# Sentiment\n",
    "param_grid = {\n",
    "    \"criterion\":[\"gini\",\"entropy\"],\n",
    "    \"max_depth\":[700, 1000],\n",
    "    \"min_samples_split\":[0.1,0.50,0.70]\n",
    "}\n",
    "\n",
    "grid_search = GridSearchCV(DecisionTreeClassifier(), param_grid, cv=3, verbose=2, n_jobs=-1)\n",
    "print(grid_search.get_params().keys())\n",
    "grid_search.fit(X_train, y_train['Sentiment'])\n",
    "grid_search.cv_results_\n"
   ]
  },
  {
   "cell_type": "markdown",
   "id": "Ok29Q3UcwpR4",
   "metadata": {
    "id": "Ok29Q3UcwpR4"
   },
   "source": [
    "###### 2.3.4 **Better** Multilayered Perceptron"
   ]
  },
  {
   "cell_type": "code",
   "execution_count": null,
   "id": "M2d0No4dwGtX",
   "metadata": {
    "colab": {
     "background_save": true,
     "base_uri": "https://localhost:8080/"
    },
    "id": "M2d0No4dwGtX",
    "outputId": "fa6f2b35-4fe2-4bfc-bab5-7790e10c5e1e"
   },
   "outputs": [],
   "source": [
    "# Emotion\n",
    "param_grid = {\n",
    "    \"activation\":['sigmoid', 'identity', 'tanh', 'relu'],\n",
    "    \"hidden_layer_sizes\":[(1,100), (2,30)],\n",
    "    \"solver\":['adam','sgd']\n",
    "}\n",
    "\n",
    "grid_search = GridSearchCV(MLPClassifier(), param_grid, cv=3, verbose=2, n_jobs=-1)\n",
    "print(grid_search.get_params().keys())\n",
    "grid_search.fit(X_train, y_train['Emotion'])\n",
    "grid_search.cv_results_\n"
   ]
  },
  {
   "cell_type": "markdown",
   "id": "98902aeb",
   "metadata": {},
   "source": [
    "###### 2.3.4 **Better** Multilayered Perceptron"
   ]
  }
 ],
 "metadata": {
  "colab": {
   "collapsed_sections": [],
   "provenance": []
  },
  "kernelspec": {
   "display_name": "Python 3",
   "language": "python",
   "name": "python3"
  },
  "language_info": {
   "codemirror_mode": {
    "name": "ipython",
    "version": 3
   },
   "file_extension": ".py",
   "mimetype": "text/x-python",
   "name": "python",
   "nbconvert_exporter": "python",
   "pygments_lexer": "ipython3",
   "version": "3.8.8"
  }
 },
 "nbformat": 4,
 "nbformat_minor": 5
}
